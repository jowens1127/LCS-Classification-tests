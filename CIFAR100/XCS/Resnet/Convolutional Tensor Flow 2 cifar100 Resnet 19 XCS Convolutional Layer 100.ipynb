{
 "cells": [
  {
   "cell_type": "code",
   "execution_count": 1,
   "id": "8175193e",
   "metadata": {
    "executionInfo": {
     "elapsed": 1216,
     "status": "ok",
     "timestamp": 1646943021000,
     "user": {
      "displayName": "Jelani Owens",
      "photoUrl": "https://lh3.googleusercontent.com/a-/AOh14GjMvtIDCD330FQxckT03XWSJ40dDel-1KnALh5uUA=s64",
      "userId": "11591998739944138376"
     },
     "user_tz": 300
    },
    "id": "8175193e"
   },
   "outputs": [],
   "source": [
    "import pandas as pd\n",
    "data= pd.read_csv(\"TrainingDataCifar100ResnetSize100.csv\")\n",
    "data_test=pd.read_csv(\"TestingDataCifar100ResnetSize100.csv\")"
   ]
  },
  {
   "cell_type": "markdown",
   "id": "a01bd3db",
   "metadata": {
    "id": "a01bd3db"
   },
   "source": [
    "# Classifier"
   ]
  },
  {
   "cell_type": "code",
   "execution_count": 2,
   "id": "7fcf08ef",
   "metadata": {
    "executionInfo": {
     "elapsed": 298,
     "status": "ok",
     "timestamp": 1646943027218,
     "user": {
      "displayName": "Jelani Owens",
      "photoUrl": "https://lh3.googleusercontent.com/a-/AOh14GjMvtIDCD330FQxckT03XWSJ40dDel-1KnALh5uUA=s64",
      "userId": "11591998739944138376"
     },
     "user_tz": 300
    },
    "id": "7fcf08ef"
   },
   "outputs": [],
   "source": [
    "#github\n",
    "classLabel = \"Class Label\"\n",
    "\n",
    "X = data.drop(classLabel,axis = 1).values\n",
    "Y = data[classLabel].values\n",
    "\n",
    "X_t= data_test.drop(classLabel,axis = 1).values\n",
    "y_test= data_test[classLabel].values"
   ]
  },
  {
   "cell_type": "code",
   "execution_count": 3,
   "id": "023c6c71",
   "metadata": {
    "colab": {
     "base_uri": "https://localhost:8080/"
    },
    "executionInfo": {
     "elapsed": 301,
     "status": "ok",
     "timestamp": 1646943037023,
     "user": {
      "displayName": "Jelani Owens",
      "photoUrl": "https://lh3.googleusercontent.com/a-/AOh14GjMvtIDCD330FQxckT03XWSJ40dDel-1KnALh5uUA=s64",
      "userId": "11591998739944138376"
     },
     "user_tz": 300
    },
    "id": "023c6c71",
    "outputId": "ffc88819-683b-4589-fbad-b1c6d72b9515"
   },
   "outputs": [
    {
     "name": "stdout",
     "output_type": "stream",
     "text": [
      "['0' '1' '2' '3' '4' '5' '6' '7' '8' '9' '10' '11' '12' '13' '14' '15'\n",
      " '16' '17' '18' '19' '20' '21' '22' '23' '24' '25' '26' '27' '28' '29'\n",
      " '30' '31' '32' '33' '34' '35' '36' '37' '38' '39' '40' '41' '42' '43'\n",
      " '44' '45' '46' '47' '48' '49' '50' '51' '52' '53' '54' '55' '56' '57'\n",
      " '58' '59' '60' '61' '62' '63' '64' '65' '66' '67' '68' '69' '70' '71'\n",
      " '72' '73' '74' '75' '76' '77' '78' '79' '80' '81' '82' '83' '84' '85'\n",
      " '86' '87' '88' '89' '90' '91' '92' '93' '94' '95' '96' '97' '98' '99']\n"
     ]
    }
   ],
   "source": [
    "Features = data.drop(classLabel,axis = 1).columns.values\n",
    "#features=list(Features.columns.values)\n",
    "print(Features)"
   ]
  },
  {
   "cell_type": "code",
   "execution_count": null,
   "id": "ecdedfd9",
   "metadata": {
    "id": "ecdedfd9",
    "outputId": "38af64e2-382a-4a49-9ff6-abceabfde189"
   },
   "outputs": [
    {
     "name": "stdout",
     "output_type": "stream",
     "text": [
      "Collecting sklearn\n",
      "  Downloading sklearn-0.0.tar.gz (1.1 kB)\n",
      "Collecting scikit-learnNote: you may need to restart the kernel to use updated packages.\n"
     ]
    },
    {
     "name": "stderr",
     "output_type": "stream",
     "text": [
      "WARNING: You are using pip version 21.2.4; however, version 22.0.3 is available.\n",
      "You should consider upgrading via the 'C:\\Users\\jowens\\AppData\\Local\\Programs\\Python\\Python310\\python.exe -m pip install --upgrade pip' command.\n"
     ]
    },
    {
     "name": "stdout",
     "output_type": "stream",
     "text": [
      "\n",
      "  Downloading scikit_learn-1.0.2-cp310-cp310-win_amd64.whl (7.2 MB)\n",
      "Collecting joblib>=0.11\n",
      "  Downloading joblib-1.1.0-py2.py3-none-any.whl (306 kB)\n",
      "Collecting threadpoolctl>=2.0.0\n",
      "  Downloading threadpoolctl-3.1.0-py3-none-any.whl (14 kB)\n",
      "Collecting scipy>=1.1.0\n",
      "  Downloading scipy-1.8.0-cp310-cp310-win_amd64.whl (37.0 MB)\n",
      "Requirement already satisfied: numpy>=1.14.6 in c:\\users\\jowens\\appdata\\local\\programs\\python\\python310\\lib\\site-packages (from scikit-learn->sklearn) (1.22.2)\n",
      "Building wheels for collected packages: sklearn\n",
      "  Building wheel for sklearn (setup.py): started\n",
      "  Building wheel for sklearn (setup.py): finished with status 'done'\n",
      "  Created wheel for sklearn: filename=sklearn-0.0-py2.py3-none-any.whl size=1310 sha256=7dbc2812cce9de8ce038459c4564dbfc73f8d36e99090e5b11ab9270ac864eb1\n",
      "  Stored in directory: c:\\users\\jowens\\appdata\\local\\pip\\cache\\wheels\\9b\\13\\01\\6f3a7fd641f90e1f6c8c7cded057f3394f451f340371c68f3d\n",
      "Successfully built sklearn\n",
      "Installing collected packages: threadpoolctl, scipy, joblib, scikit-learn, sklearn\n",
      "Successfully installed joblib-1.1.0 scikit-learn-1.0.2 scipy-1.8.0 sklearn-0.0 threadpoolctl-3.1.0\n"
     ]
    }
   ],
   "source": [
    "pip install sklearn"
   ]
  },
  {
   "cell_type": "code",
   "execution_count": 4,
   "id": "fb652f58",
   "metadata": {
    "executionInfo": {
     "elapsed": 840,
     "status": "ok",
     "timestamp": 1646943052396,
     "user": {
      "displayName": "Jelani Owens",
      "photoUrl": "https://lh3.googleusercontent.com/a-/AOh14GjMvtIDCD330FQxckT03XWSJ40dDel-1KnALh5uUA=s64",
      "userId": "11591998739944138376"
     },
     "user_tz": 300
    },
    "id": "fb652f58"
   },
   "outputs": [],
   "source": [
    "from sklearn.preprocessing import LabelBinarizer\n",
    "#custom code\n",
    "Y_train=LabelBinarizer().fit_transform(Y)\n",
    "Y_test=LabelBinarizer().fit_transform(y_test)"
   ]
  },
  {
   "cell_type": "code",
   "execution_count": 12,
   "id": "f9163ca0",
   "metadata": {
    "colab": {
     "base_uri": "https://localhost:8080/"
    },
    "executionInfo": {
     "elapsed": 34987,
     "status": "ok",
     "timestamp": 1646943099098,
     "user": {
      "displayName": "Jelani Owens",
      "photoUrl": "https://lh3.googleusercontent.com/a-/AOh14GjMvtIDCD330FQxckT03XWSJ40dDel-1KnALh5uUA=s64",
      "userId": "11591998739944138376"
     },
     "user_tz": 300
    },
    "id": "f9163ca0",
    "outputId": "c35118b0-1811-4c6b-9e68-1674d3529bde"
   },
   "outputs": [
    {
     "name": "stdout",
     "output_type": "stream",
     "text": [
      "Collecting scikit-XCS\n",
      "  Downloading scikit-XCS-1.0.7.tar.gz (316 kB)\n",
      "\u001b[K     |████████████████████████████████| 316 kB 4.3 MB/s \n",
      "\u001b[?25hRequirement already satisfied: numpy in /usr/local/lib/python3.7/dist-packages (from scikit-XCS) (1.21.5)\n",
      "Requirement already satisfied: pandas in /usr/local/lib/python3.7/dist-packages (from scikit-XCS) (1.3.5)\n",
      "Requirement already satisfied: scikit-learn in /usr/local/lib/python3.7/dist-packages (from scikit-XCS) (1.0.2)\n",
      "Requirement already satisfied: pytz>=2017.3 in /usr/local/lib/python3.7/dist-packages (from pandas->scikit-XCS) (2018.9)\n",
      "Requirement already satisfied: python-dateutil>=2.7.3 in /usr/local/lib/python3.7/dist-packages (from pandas->scikit-XCS) (2.8.2)\n",
      "Requirement already satisfied: six>=1.5 in /usr/local/lib/python3.7/dist-packages (from python-dateutil>=2.7.3->pandas->scikit-XCS) (1.15.0)\n",
      "Requirement already satisfied: threadpoolctl>=2.0.0 in /usr/local/lib/python3.7/dist-packages (from scikit-learn->scikit-XCS) (3.1.0)\n",
      "Requirement already satisfied: scipy>=1.1.0 in /usr/local/lib/python3.7/dist-packages (from scikit-learn->scikit-XCS) (1.4.1)\n",
      "Requirement already satisfied: joblib>=0.11 in /usr/local/lib/python3.7/dist-packages (from scikit-learn->scikit-XCS) (1.1.0)\n",
      "Building wheels for collected packages: scikit-XCS\n",
      "  Building wheel for scikit-XCS (setup.py) ... \u001b[?25l\u001b[?25hdone\n",
      "  Created wheel for scikit-XCS: filename=scikit_XCS-1.0.7-py3-none-any.whl size=35944 sha256=66ccebf2e83f591058c71483debbb60743baad2f5e6a4eff86c91720e925f2fc\n",
      "  Stored in directory: /root/.cache/pip/wheels/10/5e/44/b99e55f3c73e70da959ec35518bd4209acd37be839d55815e8\n",
      "Successfully built scikit-XCS\n",
      "Installing collected packages: scikit-XCS\n",
      "Successfully installed scikit-XCS-1.0.7\n"
     ]
    }
   ],
   "source": [
    "pip install scikit-XCS"
   ]
  },
  {
   "cell_type": "code",
   "execution_count": null,
   "id": "f48472af",
   "metadata": {
    "colab": {
     "base_uri": "https://localhost:8080/",
     "height": 381
    },
    "executionInfo": {
     "elapsed": 479622,
     "status": "error",
     "timestamp": 1646943583232,
     "user": {
      "displayName": "Jelani Owens",
      "photoUrl": "https://lh3.googleusercontent.com/a-/AOh14GjMvtIDCD330FQxckT03XWSJ40dDel-1KnALh5uUA=s64",
      "userId": "11591998739944138376"
     },
     "user_tz": 300
    },
    "id": "f48472af",
    "outputId": "35176898-31b7-44e4-8619-4b77a6449735"
   },
   "outputs": [],
   "source": [
    "from skXCS import XCS\n",
    "model = XCS(N=10000, learning_iterations = 50000,nu = 10)\n",
    "trainedModel = model.fit(X,Y)"
   ]
  },
  {
   "cell_type": "markdown",
   "id": "864600fe",
   "metadata": {
    "id": "864600fe"
   },
   "source": [
    "# Rule Data"
   ]
  },
  {
   "cell_type": "code",
   "execution_count": null,
   "id": "256cb0c0",
   "metadata": {
    "id": "256cb0c0"
   },
   "outputs": [],
   "source": [
    "trainedModel.export_iteration_tracking_data(\"iterationData_cifar100_Resnet_100_XCS.csv\")"
   ]
  },
  {
   "cell_type": "code",
   "execution_count": null,
   "id": "1bad759f",
   "metadata": {
    "id": "1bad759f",
    "outputId": "33b77a79-48ed-467a-d7f3-150e23ece902"
   },
   "outputs": [],
   "source": [
    "import matplotlib.pyplot as plt\n",
    "import pandas as pd\n",
    "import numpy as np\n",
    "def cumulativeFreq(freq):\n",
    "    a = []\n",
    "    c = []\n",
    "    for i in freq:\n",
    "        a.append(i+sum(c))\n",
    "        c.append(i)\n",
    "    return np.array(a)\n",
    "\n",
    "def movingAvg(a,threshold=300):\n",
    "    weights = np.repeat(1.0,threshold)/threshold\n",
    "    conv = np.convolve(a,weights,'valid')\n",
    "    return np.append(conv,np.full(threshold-1,conv[conv.size-1]),)\n",
    "\n",
    "dataTracking = pd.read_csv(\"iterationData_cifar100_Resnet_100_XCS.csv\")\n",
    "\n",
    "iterations = dataTracking[\"Iteration\"].values\n",
    "accuracy = dataTracking['Accuracy (approx)'].values\n",
    "generality = dataTracking['Average Population Generality'].values\n",
    "macroPop = dataTracking[\"Macropopulation Size\"].values\n",
    "microPop = dataTracking[\"Micropopulation Size\"].values\n",
    "mSize = dataTracking[\"Match Set Size\"].values\n",
    "aSize = dataTracking[\"Action Set Size\"].values\n",
    "experience = dataTracking[\"Average Iteration Age of Action Set Classifiers\"].values\n",
    "subsumption = dataTracking[\"# Classifiers Subsumed in Iteration\"].values\n",
    "crossover = dataTracking[\"# Crossover Operations Performed in Iteration\"].values\n",
    "mutation = dataTracking[\"# Mutation Operations Performed in Iteration\"].values\n",
    "covering = dataTracking[\"# Covering Operations Performed in Iteration\"].values\n",
    "deletion = dataTracking[\"# Deletion Operations Performed in Iteration\"].values\n",
    "\n",
    "gTime = dataTracking[\"Total Global Time\"].values\n",
    "mTime = dataTracking[\"Total Matching Time\"].values\n",
    "delTime = dataTracking[\"Total Deletion Time\"].values\n",
    "subTime = dataTracking[\"Total Subsumption Time\"].values\n",
    "selTime = dataTracking[\"Total GA Time\"].values\n",
    "evalTime = dataTracking[\"Total Evaluation Time\"].values\n",
    "\n",
    "plt.plot(iterations,accuracy,label=\"approx accuracy\")\n",
    "plt.plot(iterations,generality,label=\"avg generality\")\n",
    "plt.xlabel('Iteration')\n",
    "plt.ylabel('accuracy/generality')\n",
    "plt.legend()\n",
    "plt.show()\n",
    "\n",
    "plt.plot(iterations,macroPop,label=\"macroPop Size\")\n",
    "plt.plot(iterations,microPop,label=\"microPop Size\")\n",
    "plt.xlabel('Iteration')\n",
    "plt.ylabel('Macro/MicroPop Size')\n",
    "plt.legend()\n",
    "plt.show()\n",
    "\n",
    "plt.plot(iterations,mSize,label=\"[M] size\")\n",
    "plt.plot(iterations,movingAvg(mSize),label=\"[M] size movingAvg\")\n",
    "plt.plot(iterations,aSize,label=\"[A] size\")\n",
    "plt.plot(iterations,movingAvg(aSize),label=\"[A] size movingAvg\")\n",
    "plt.xlabel('Iteration')\n",
    "plt.ylabel('[M]/[A] size per iteration')\n",
    "plt.legend()\n",
    "plt.show()\n",
    "\n",
    "plt.plot(iterations,experience)\n",
    "plt.ylabel('Average [A] Classifier Age')\n",
    "plt.xlabel('Iteration')\n",
    "plt.show()\n",
    "\n",
    "plt.plot(iterations,cumulativeFreq(subsumption),label=\"Subsumption Count\")\n",
    "plt.plot(iterations,cumulativeFreq(crossover),label=\"Crossover Count\")\n",
    "plt.plot(iterations,cumulativeFreq(mutation),label=\"Mutation Count\")\n",
    "plt.plot(iterations,cumulativeFreq(deletion),label=\"Deletion Count\")\n",
    "plt.plot(iterations,cumulativeFreq(covering),label=\"Covering Count\")\n",
    "plt.xlabel('Iteration')\n",
    "plt.ylabel('Cumulative Operations Count Over Iterations')\n",
    "plt.legend()\n",
    "plt.show()\n",
    "\n",
    "plt.plot(iterations,mTime,label=\"Matching Time\")\n",
    "plt.plot(iterations,delTime+mTime,label=\"Deletion Time\")\n",
    "plt.plot(iterations,subTime+delTime+mTime,label=\"Subsumption Time\")\n",
    "plt.plot(iterations,selTime+subTime+delTime+mTime,label=\"GA Time\")\n",
    "plt.plot(iterations,evalTime+selTime+subTime+delTime+mTime,label=\"Evaluation Time\")\n",
    "plt.plot(iterations,gTime,label=\"Total Time\")\n",
    "plt.xlabel('Iteration')\n",
    "plt.ylabel('Cumulative Time (Stacked)')\n",
    "plt.legend()\n",
    "plt.show()"
   ]
  },
  {
   "cell_type": "code",
   "execution_count": null,
   "id": "a888f169",
   "metadata": {
    "id": "a888f169",
    "outputId": "59d172eb-8130-41b9-a7b3-d1011bac63b8"
   },
   "outputs": [],
   "source": [
    "trainedModel.export_final_rule_population(\"RulePopulationCifar100Resnet100_XCS.csv\",Features,classLabel)\n",
    "\n",
    "populationData2 = pd.read_csv(\"RulePopulationCifar100Resnet100_XCS.csv\")\n",
    "display(populationData2)"
   ]
  },
  {
   "cell_type": "code",
   "execution_count": null,
   "id": "b0b42cfe",
   "metadata": {
    "id": "b0b42cfe",
    "outputId": "5ac59688-b303-4e7f-87b0-e6f328090287"
   },
   "outputs": [],
   "source": [
    "trainedModel.export_final_rule_population_DCAL(\"RulePopulationCifar100Resnet1002_XCS.csv\",Features,classLabel)\n",
    "\n",
    "populationData3 = pd.read_csv(\"RulePopulationCifar100Resnet1002_XCS.csv\")\n",
    "display(populationData3)"
   ]
  },
  {
   "cell_type": "markdown",
   "id": "fa6af74e",
   "metadata": {
    "id": "fa6af74e"
   },
   "source": [
    "# ROC and PRC Curves"
   ]
  },
  {
   "cell_type": "markdown",
   "id": "ceb7bcd0",
   "metadata": {
    "id": "ceb7bcd0"
   },
   "source": [
    "## 0-49"
   ]
  },
  {
   "cell_type": "markdown",
   "id": "165f41fb",
   "metadata": {
    "id": "165f41fb"
   },
   "source": [
    "### ROC and PRC Curves 0-9 "
   ]
  },
  {
   "cell_type": "code",
   "execution_count": null,
   "id": "5a0d89b3",
   "metadata": {
    "id": "5a0d89b3",
    "outputId": "ac0e15f4-cf24-4532-f80b-5c4781f36fbb"
   },
   "outputs": [],
   "source": [
    "from sklearn.metrics import roc_curve, auc, precision_recall_curve\n",
    "import matplotlib.pyplot as plt\n",
    "\n",
    "probs = trainedModel.predict_proba(X_t)\n",
    "fpr1, tpr1, thresholds1 = roc_curve(Y_test[:,0], probs[:,0])\n",
    "prec1, recall1, thresholds1 = precision_recall_curve(Y_test[:,0], probs[:,0])\n",
    "\n",
    "plt.plot(fpr1,tpr1,label=\"ROC\")\n",
    "plt.plot(recall1,prec1,label=\"PRC\")\n",
    "\n",
    "plt.xlabel('False Positive Rate/Recall')\n",
    "plt.ylabel('True Positive Rate/Precision')\n",
    "\n",
    "plt.legend()\n",
    "plt.title('0')\n",
    "plt.show()\n",
    "\n",
    "print(\"PRC AUC:\" + str(auc(recall1, prec1)))\n",
    "print(\"ROC AUC:\" + str(auc(fpr1, tpr1)))"
   ]
  },
  {
   "cell_type": "code",
   "execution_count": null,
   "id": "68099eb4",
   "metadata": {
    "id": "68099eb4",
    "outputId": "599532c0-ffb1-4944-802b-323ec65e56c5"
   },
   "outputs": [],
   "source": [
    "fpr2, tpr2, thresholds2 = roc_curve(Y_test[:,1], probs[:, 1])\n",
    "prec2, recall2, thresholds2 = precision_recall_curve(Y_test[:,1], probs[:, 1])\n",
    "\n",
    "plt.plot(fpr2,tpr2,label=\"ROC\")\n",
    "plt.plot(recall2,prec2,label=\"PRC\")\n",
    "\n",
    "plt.xlabel('False Positive Rate/Recall')\n",
    "plt.ylabel('True Positive Rate/Precision')\n",
    "\n",
    "plt.legend()\n",
    "plt.title('1')\n",
    "plt.show()\n",
    "\n",
    "print(\"PRC AUC:\" + str(auc(recall2, prec2)))\n",
    "print(\"ROC AUC:\" + str(auc(fpr2, tpr2)))"
   ]
  },
  {
   "cell_type": "code",
   "execution_count": null,
   "id": "b9eb6e55",
   "metadata": {
    "id": "b9eb6e55",
    "outputId": "9861f034-d8f2-46e8-aac2-26566bfdd153"
   },
   "outputs": [],
   "source": [
    "fpr3, tpr3, thresholds3 = roc_curve(Y_test[:,2], probs[:, 2])\n",
    "prec3, recall3, thresholds3 = precision_recall_curve(Y_test[:,2], probs[:, 2])\n",
    "\n",
    "plt.plot(fpr3,tpr3,label=\"ROC\")\n",
    "plt.plot(recall3,prec3,label=\"PRC\")\n",
    "\n",
    "plt.xlabel('False Positive Rate/Recall')\n",
    "plt.ylabel('True Positive Rate/Precision')\n",
    "\n",
    "plt.legend()\n",
    "plt.title('2')\n",
    "plt.show()\n",
    "\n",
    "print(\"PRC AUC:\" + str(auc(recall3, prec3)))\n",
    "print(\"ROC AUC:\" + str(auc(fpr3, tpr3)))"
   ]
  },
  {
   "cell_type": "code",
   "execution_count": null,
   "id": "0f15daa5",
   "metadata": {
    "id": "0f15daa5",
    "outputId": "f5b8e3cf-33d4-4594-8cf6-be80b91ba18e"
   },
   "outputs": [],
   "source": [
    "fpr4, tpr4, thresholds4 = roc_curve(Y_test[:,3], probs[:, 3])\n",
    "prec4, recall4, thresholds4 = precision_recall_curve(Y_test[:,3], probs[:, 3])\n",
    "\n",
    "plt.plot(fpr4,tpr4,label=\"ROC\")\n",
    "plt.plot(recall4,prec4,label=\"PRC\")\n",
    "\n",
    "plt.xlabel('False Positive Rate/Recall')\n",
    "plt.ylabel('True Positive Rate/Precision')\n",
    "\n",
    "plt.legend()\n",
    "plt.title('3')\n",
    "plt.show()\n",
    "\n",
    "print(\"PRC AUC:\" + str(auc(recall4, prec4)))\n",
    "print(\"ROC AUC:\" + str(auc(fpr4, tpr4)))"
   ]
  },
  {
   "cell_type": "code",
   "execution_count": null,
   "id": "a60edd7b",
   "metadata": {
    "id": "a60edd7b",
    "outputId": "96035592-b615-4c6d-b48d-df52ce30e853"
   },
   "outputs": [],
   "source": [
    "fpr5, tpr5, thresholds5 = roc_curve(Y_test[:,4], probs[:, 4])\n",
    "prec5, recall5, thresholds5 = precision_recall_curve(Y_test[:,4], probs[:, 4])\n",
    "\n",
    "plt.plot(fpr5,tpr5,label=\"ROC\")\n",
    "plt.plot(recall5,prec5,label=\"PRC\")\n",
    "\n",
    "plt.xlabel('False Positive Rate/Recall')\n",
    "plt.ylabel('True Positive Rate/Precision')\n",
    "\n",
    "plt.legend()\n",
    "plt.title('4')\n",
    "plt.show()\n",
    "\n",
    "print(\"PRC AUC:\" + str(auc(recall5, prec5)))\n",
    "print(\"ROC AUC:\" + str(auc(fpr5, tpr5)))"
   ]
  },
  {
   "cell_type": "code",
   "execution_count": null,
   "id": "1675bd9e",
   "metadata": {
    "id": "1675bd9e",
    "outputId": "9fbb8961-7bd2-45fe-936f-b65b64d4f45e"
   },
   "outputs": [],
   "source": [
    "fpr6, tpr6, thresholds6 = roc_curve(Y_test[:,5], probs[:, 5])\n",
    "prec6, recall6, thresholds6 = precision_recall_curve(Y_test[:,5], probs[:, 5])\n",
    "\n",
    "plt.plot(fpr6,tpr6,label=\"ROC\")\n",
    "plt.plot(recall6,prec6,label=\"PRC\")\n",
    "\n",
    "plt.xlabel('False Positive Rate/Recall')\n",
    "plt.ylabel('True Positive Rate/Precision')\n",
    "\n",
    "plt.legend()\n",
    "plt.title('5')\n",
    "plt.show()\n",
    "\n",
    "print(\"PRC AUC:\" + str(auc(recall6, prec6)))\n",
    "print(\"ROC AUC:\" + str(auc(fpr6, tpr6)))"
   ]
  },
  {
   "cell_type": "code",
   "execution_count": null,
   "id": "f10e169a",
   "metadata": {
    "id": "f10e169a",
    "outputId": "3507f137-1165-414b-cade-4b77d8808882"
   },
   "outputs": [],
   "source": [
    "fpr7, tpr7, thresholds7 = roc_curve(Y_test[:,6], probs[:, 6])\n",
    "prec7, recall7, thresholds7 = precision_recall_curve(Y_test[:,6], probs[:, 6])\n",
    "\n",
    "plt.plot(fpr7,tpr7,label=\"ROC\")\n",
    "plt.plot(recall7,prec7,label=\"PRC\")\n",
    "\n",
    "plt.xlabel('False Positive Rate/Recall')\n",
    "plt.ylabel('True Positive Rate/Precision')\n",
    "\n",
    "plt.legend()\n",
    "plt.title('6')\n",
    "plt.show()\n",
    "\n",
    "print(\"PRC AUC:\" + str(auc(recall7, prec7)))\n",
    "print(\"ROC AUC:\" + str(auc(fpr7, tpr7)))"
   ]
  },
  {
   "cell_type": "code",
   "execution_count": null,
   "id": "1c72b4ed",
   "metadata": {
    "id": "1c72b4ed",
    "outputId": "9f13bc43-5d44-4cee-e668-a49d312764c9"
   },
   "outputs": [],
   "source": [
    "fpr8, tpr8, thresholds8 = roc_curve(Y_test[:,7], probs[:, 7])\n",
    "prec8, recall8, thresholds8 = precision_recall_curve(Y_test[:,7], probs[:, 7])\n",
    "\n",
    "plt.plot(fpr8,tpr8,label=\"ROC\")\n",
    "plt.plot(recall8,prec8,label=\"PRC\")\n",
    "\n",
    "plt.xlabel('False Positive Rate/Recall')\n",
    "plt.ylabel('True Positive Rate/Precision')\n",
    "\n",
    "plt.legend()\n",
    "plt.title('7')\n",
    "plt.show()\n",
    "\n",
    "print(\"PRC AUC:\" + str(auc(recall8, prec8)))\n",
    "print(\"ROC AUC:\" + str(auc(fpr8, tpr8)))"
   ]
  },
  {
   "cell_type": "code",
   "execution_count": null,
   "id": "29c87e6b",
   "metadata": {
    "id": "29c87e6b",
    "outputId": "a63eee34-a8f5-438e-f964-e7cc6d49a850"
   },
   "outputs": [],
   "source": [
    "fpr9, tpr9, thresholds9 = roc_curve(Y_test[:,8], probs[:, 8])\n",
    "prec9, recall9, thresholds9 = precision_recall_curve(Y_test[:,8], probs[:, 8])\n",
    "\n",
    "plt.plot(fpr9,tpr9,label=\"ROC\")\n",
    "plt.plot(recall9,prec9,label=\"PRC\")\n",
    "\n",
    "plt.xlabel('False Positive Rate/Recall')\n",
    "plt.ylabel('True Positive Rate/Precision')\n",
    "\n",
    "plt.legend()\n",
    "plt.title('8')\n",
    "plt.show()\n",
    "\n",
    "print(\"PRC AUC:\" + str(auc(recall9, prec9)))\n",
    "print(\"ROC AUC:\" + str(auc(fpr9, tpr9)))"
   ]
  },
  {
   "cell_type": "code",
   "execution_count": null,
   "id": "f92c856b",
   "metadata": {
    "id": "f92c856b",
    "outputId": "3110585d-b393-4490-9122-d60f568864b6"
   },
   "outputs": [],
   "source": [
    "fpr10, tpr10, thresholds10 = roc_curve(Y_test[:,9], probs[:, 9])\n",
    "prec10, recall10, thresholds10 = precision_recall_curve(Y_test[:,9], probs[:, 9])\n",
    "\n",
    "plt.plot(fpr10,tpr10,label=\"ROC\")\n",
    "plt.plot(recall10,prec10,label=\"PRC\")\n",
    "\n",
    "plt.xlabel('False Positive Rate/Recall')\n",
    "plt.ylabel('True Positive Rate/Precision')\n",
    "\n",
    "plt.legend()\n",
    "plt.title('9')\n",
    "plt.show()\n",
    "\n",
    "print(\"PRC AUC:\" + str(auc(recall10, prec10)))\n",
    "print(\"ROC AUC:\" + str(auc(fpr10, tpr10)))"
   ]
  },
  {
   "cell_type": "markdown",
   "id": "ec542120",
   "metadata": {
    "id": "ec542120"
   },
   "source": [
    "### ROC and PRC Curve 10-19"
   ]
  },
  {
   "cell_type": "markdown",
   "id": "24353d42",
   "metadata": {
    "id": "24353d42"
   },
   "source": [
    "fpr11, tpr11, thresholds11 = roc_curve(Y_test[:,10], probs[:,10])\n",
    "prec11, recall11, thresholds11 = precision_recall_curve(Y_test[:,10], probs[:,10])\n",
    "\n",
    "plt.plot(fpr11,tpr11,label=\"ROC\")\n",
    "plt.plot(recall11,prec11,label=\"PRC\")\n",
    "\n",
    "plt.xlabel('False Positive Rate/Recall')\n",
    "plt.ylabel('True Positive Rate/Precision')\n",
    "\n",
    "plt.legend()\n",
    "plt.title('10')\n",
    "plt.show()\n",
    "\n",
    "print(\"PRC AUC:\" + str(auc(recall11, prec11)))\n",
    "print(\"ROC AUC:\" + str(auc(fpr11, tpr11)))"
   ]
  },
  {
   "cell_type": "code",
   "execution_count": null,
   "id": "d4e179de",
   "metadata": {
    "id": "d4e179de",
    "outputId": "47307f43-aae2-4f9a-f98f-f83387f64e90"
   },
   "outputs": [],
   "source": [
    "fpr12, tpr12, thresholds12 = roc_curve(Y_test[:,11], probs[:, 11])\n",
    "prec12, recall12, thresholds12 = precision_recall_curve(Y_test[:,11], probs[:, 11])\n",
    "\n",
    "plt.plot(fpr12,tpr12,label=\"ROC\")\n",
    "plt.plot(recall12,prec12,label=\"PRC\")\n",
    "\n",
    "plt.xlabel('False Positive Rate/Recall')\n",
    "plt.ylabel('True Positive Rate/Precision')\n",
    "\n",
    "plt.legend()\n",
    "plt.title('11')\n",
    "plt.show()\n",
    "\n",
    "print(\"PRC AUC:\" + str(auc(recall12, prec12)))\n",
    "print(\"ROC AUC:\" + str(auc(fpr12, tpr12)))"
   ]
  },
  {
   "cell_type": "code",
   "execution_count": null,
   "id": "055c1771",
   "metadata": {
    "id": "055c1771",
    "outputId": "9f0d08c9-dc1f-49e9-e446-629f75cebde6"
   },
   "outputs": [],
   "source": [
    "fpr13, tpr13, thresholds13 = roc_curve(Y_test[:,12], probs[:, 12])\n",
    "prec13, recall13, thresholds13 = precision_recall_curve(Y_test[:,12], probs[:, 12])\n",
    "\n",
    "plt.plot(fpr13,tpr13,label=\"ROC\")\n",
    "plt.plot(recall13,prec13,label=\"PRC\")\n",
    "\n",
    "plt.xlabel('False Positive Rate/Recall')\n",
    "plt.ylabel('True Positive Rate/Precision')\n",
    "\n",
    "plt.legend()\n",
    "plt.title('12')\n",
    "plt.show()\n",
    "\n",
    "print(\"PRC AUC:\" + str(auc(recall13, prec13)))\n",
    "print(\"ROC AUC:\" + str(auc(fpr13, tpr13)))"
   ]
  },
  {
   "cell_type": "code",
   "execution_count": null,
   "id": "6acaa9e7",
   "metadata": {
    "id": "6acaa9e7",
    "outputId": "8a1320c5-9872-4a8f-9f69-9eb9a2c9030f"
   },
   "outputs": [],
   "source": [
    "fpr14, tpr14, thresholds14 = roc_curve(Y_test[:,13], probs[:, 13])\n",
    "prec14, recall14, thresholds14 = precision_recall_curve(Y_test[:,13], probs[:, 13])\n",
    "\n",
    "plt.plot(fpr14,tpr14,label=\"ROC\")\n",
    "plt.plot(recall14,prec14,label=\"PRC\")\n",
    "\n",
    "plt.xlabel('False Positive Rate/Recall')\n",
    "plt.ylabel('True Positive Rate/Precision')\n",
    "\n",
    "plt.legend()\n",
    "plt.title('13')\n",
    "plt.show()\n",
    "\n",
    "print(\"PRC AUC:\" + str(auc(recall14, prec14)))\n",
    "print(\"ROC AUC:\" + str(auc(fpr14, tpr14)))"
   ]
  },
  {
   "cell_type": "code",
   "execution_count": null,
   "id": "7fc5bc77",
   "metadata": {
    "id": "7fc5bc77",
    "outputId": "c34aeafc-a923-4c90-e925-bcfb5cf9c195"
   },
   "outputs": [],
   "source": [
    "fpr15, tpr15, thresholds15 = roc_curve(Y_test[:,14], probs[:, 14])\n",
    "prec15, recall15, thresholds15 = precision_recall_curve(Y_test[:,14], probs[:, 14])\n",
    "\n",
    "plt.plot(fpr15,tpr15,label=\"ROC\")\n",
    "plt.plot(recall15,prec15,label=\"PRC\")\n",
    "\n",
    "plt.xlabel('False Positive Rate/Recall')\n",
    "plt.ylabel('True Positive Rate/Precision')\n",
    "\n",
    "plt.legend()\n",
    "plt.title('14')\n",
    "plt.show()\n",
    "\n",
    "print(\"PRC AUC:\" + str(auc(recall15, prec15)))\n",
    "print(\"ROC AUC:\" + str(auc(fpr15, tpr15)))"
   ]
  },
  {
   "cell_type": "code",
   "execution_count": null,
   "id": "bee29093",
   "metadata": {
    "id": "bee29093",
    "outputId": "7c22ddeb-3d2c-47f4-b0bc-015ab80b79e0"
   },
   "outputs": [],
   "source": [
    "fpr16, tpr16, thresholds16 = roc_curve(Y_test[:,15], probs[:, 15])\n",
    "prec16, recall16, thresholds16 = precision_recall_curve(Y_test[:,15], probs[:, 15])\n",
    "\n",
    "plt.plot(fpr16,tpr16,label=\"ROC\")\n",
    "plt.plot(recall16,prec16,label=\"PRC\")\n",
    "\n",
    "plt.xlabel('False Positive Rate/Recall')\n",
    "plt.ylabel('True Positive Rate/Precision')\n",
    "\n",
    "plt.legend()\n",
    "plt.title('15')\n",
    "plt.show()\n",
    "\n",
    "print(\"PRC AUC:\" + str(auc(recall16, prec16)))\n",
    "print(\"ROC AUC:\" + str(auc(fpr16, tpr16)))"
   ]
  },
  {
   "cell_type": "code",
   "execution_count": null,
   "id": "46423253",
   "metadata": {
    "id": "46423253",
    "outputId": "e3b4c1da-b899-4d87-a8bb-3048f88ca8ab"
   },
   "outputs": [],
   "source": [
    "fpr17, tpr17, thresholds17 = roc_curve(Y_test[:,16], probs[:, 16])\n",
    "prec17, recall17, thresholds17 = precision_recall_curve(Y_test[:,16], probs[:, 16])\n",
    "\n",
    "plt.plot(fpr17,tpr17,label=\"ROC\")\n",
    "plt.plot(recall17,prec17,label=\"PRC\")\n",
    "\n",
    "plt.xlabel('False Positive Rate/Recall')\n",
    "plt.ylabel('True Positive Rate/Precision')\n",
    "\n",
    "plt.legend()\n",
    "plt.title('16')\n",
    "plt.show()\n",
    "\n",
    "print(\"PRC AUC:\" + str(auc(recall17, prec17)))\n",
    "print(\"ROC AUC:\" + str(auc(fpr17, tpr17)))"
   ]
  },
  {
   "cell_type": "code",
   "execution_count": null,
   "id": "dfead004",
   "metadata": {
    "id": "dfead004",
    "outputId": "7c1c0737-ad67-4e6d-807c-6e245f66467e"
   },
   "outputs": [],
   "source": [
    "fpr18, tpr18, thresholds18 = roc_curve(Y_test[:,17], probs[:, 17])\n",
    "prec18, recall18, thresholds18 = precision_recall_curve(Y_test[:,17], probs[:, 17])\n",
    "\n",
    "plt.plot(fpr18,tpr18,label=\"ROC\")\n",
    "plt.plot(recall18,prec18,label=\"PRC\")\n",
    "\n",
    "plt.xlabel('False Positive Rate/Recall')\n",
    "plt.ylabel('True Positive Rate/Precision')\n",
    "\n",
    "plt.legend()\n",
    "plt.title('17')\n",
    "plt.show()\n",
    "\n",
    "print(\"PRC AUC:\" + str(auc(recall18, prec18)))\n",
    "print(\"ROC AUC:\" + str(auc(fpr18, tpr18)))"
   ]
  },
  {
   "cell_type": "code",
   "execution_count": null,
   "id": "95748fec",
   "metadata": {
    "id": "95748fec",
    "outputId": "f1b6b9b6-5958-4bfd-8d12-fb490e332365"
   },
   "outputs": [],
   "source": [
    "fpr19, tpr19, thresholds19 = roc_curve(Y_test[:,18], probs[:, 18])\n",
    "prec19, recall19, thresholds19 = precision_recall_curve(Y_test[:,18], probs[:, 18])\n",
    "\n",
    "plt.plot(fpr19,tpr19,label=\"ROC\")\n",
    "plt.plot(recall19,prec19,label=\"PRC\")\n",
    "\n",
    "plt.xlabel('False Positive Rate/Recall')\n",
    "plt.ylabel('True Positive Rate/Precision')\n",
    "\n",
    "plt.legend()\n",
    "plt.title('18')\n",
    "plt.show()\n",
    "\n",
    "print(\"PRC AUC:\" + str(auc(recall19, prec19)))\n",
    "print(\"ROC AUC:\" + str(auc(fpr19, tpr19)))"
   ]
  },
  {
   "cell_type": "code",
   "execution_count": null,
   "id": "98fbc045",
   "metadata": {
    "id": "98fbc045",
    "outputId": "198c3666-cb15-49a2-b1e5-112472b008d1"
   },
   "outputs": [],
   "source": [
    "fpr20, tpr20, thresholds20 = roc_curve(Y_test[:,19], probs[:, 19])\n",
    "prec20, recall20, thresholds20 = precision_recall_curve(Y_test[:,19], probs[:, 19])\n",
    "\n",
    "plt.plot(fpr20,tpr20,label=\"ROC\")\n",
    "plt.plot(recall20,prec20,label=\"PRC\")\n",
    "\n",
    "plt.xlabel('False Positive Rate/Recall')\n",
    "plt.ylabel('True Positive Rate/Precision')\n",
    "\n",
    "plt.legend()\n",
    "plt.title('19')\n",
    "plt.show()\n",
    "\n",
    "print(\"PRC AUC:\" + str(auc(recall20, prec20)))\n",
    "print(\"ROC AUC:\" + str(auc(fpr20, tpr20)))"
   ]
  },
  {
   "cell_type": "markdown",
   "id": "f91f959b",
   "metadata": {
    "id": "f91f959b"
   },
   "source": [
    "### ROC and PRC Curve 20-29"
   ]
  },
  {
   "cell_type": "code",
   "execution_count": null,
   "id": "89c36685",
   "metadata": {
    "id": "89c36685",
    "outputId": "3fbc36b1-066b-4bd6-a5ce-add0f051d7f5"
   },
   "outputs": [],
   "source": [
    "fpr21, tpr21, thresholds21 = roc_curve(Y_test[:,20], probs[:,20])\n",
    "prec21, recall21, thresholds21 = precision_recall_curve(Y_test[:,20], probs[:,20])\n",
    "\n",
    "plt.plot(fpr21,tpr21,label=\"ROC\")\n",
    "plt.plot(recall21,prec21,label=\"PRC\")\n",
    "\n",
    "plt.xlabel('False Positive Rate/Recall')\n",
    "plt.ylabel('True Positive Rate/Precision')\n",
    "\n",
    "plt.legend()\n",
    "plt.title('20')\n",
    "plt.show()\n",
    "\n",
    "print(\"PRC AUC:\" + str(auc(recall21, prec21)))\n",
    "print(\"ROC AUC:\" + str(auc(fpr21, tpr21)))"
   ]
  },
  {
   "cell_type": "code",
   "execution_count": null,
   "id": "d12c8178",
   "metadata": {
    "id": "d12c8178",
    "outputId": "c3e8d110-436f-4ed6-83fa-8442f920b0c1"
   },
   "outputs": [],
   "source": [
    "fpr22, tpr22, thresholds22 = roc_curve(Y_test[:,21], probs[:, 21])\n",
    "prec22, recall22, thresholds22 = precision_recall_curve(Y_test[:,21], probs[:, 21])\n",
    "\n",
    "plt.plot(fpr22,tpr22,label=\"ROC\")\n",
    "plt.plot(recall22,prec22,label=\"PRC\")\n",
    "\n",
    "plt.xlabel('False Positive Rate/Recall')\n",
    "plt.ylabel('True Positive Rate/Precision')\n",
    "\n",
    "plt.legend()\n",
    "plt.title('21')\n",
    "plt.show()\n",
    "\n",
    "print(\"PRC AUC:\" + str(auc(recall22, prec22)))\n",
    "print(\"ROC AUC:\" + str(auc(fpr22, tpr22)))"
   ]
  },
  {
   "cell_type": "code",
   "execution_count": null,
   "id": "a69a0e94",
   "metadata": {
    "id": "a69a0e94",
    "outputId": "ac38766b-ae2d-436f-a9ea-be03cec00fc3"
   },
   "outputs": [],
   "source": [
    "fpr23, tpr23, thresholds23 = roc_curve(Y_test[:,22], probs[:, 22])\n",
    "prec23, recall23, thresholds23 = precision_recall_curve(Y_test[:,22], probs[:, 22])\n",
    "\n",
    "plt.plot(fpr23,tpr23,label=\"ROC\")\n",
    "plt.plot(recall23,prec23,label=\"PRC\")\n",
    "\n",
    "plt.xlabel('False Positive Rate/Recall')\n",
    "plt.ylabel('True Positive Rate/Precision')\n",
    "\n",
    "plt.legend()\n",
    "plt.title('22')\n",
    "plt.show()\n",
    "\n",
    "print(\"PRC AUC:\" + str(auc(recall23, prec23)))\n",
    "print(\"ROC AUC:\" + str(auc(fpr23, tpr23)))"
   ]
  },
  {
   "cell_type": "code",
   "execution_count": null,
   "id": "c8015ac9",
   "metadata": {
    "id": "c8015ac9",
    "outputId": "272c72f2-c807-4f08-9b7d-a15b614cf434"
   },
   "outputs": [],
   "source": [
    "fpr24, tpr24, thresholds24 = roc_curve(Y_test[:,23], probs[:, 23])\n",
    "prec24, recall24, thresholds24 = precision_recall_curve(Y_test[:,23], probs[:, 23])\n",
    "\n",
    "plt.plot(fpr24,tpr24,label=\"ROC\")\n",
    "plt.plot(recall24,prec24,label=\"PRC\")\n",
    "\n",
    "plt.xlabel('False Positive Rate/Recall')\n",
    "plt.ylabel('True Positive Rate/Precision')\n",
    "\n",
    "plt.legend()\n",
    "plt.title('23')\n",
    "plt.show()\n",
    "\n",
    "print(\"PRC AUC:\" + str(auc(recall24, prec24)))\n",
    "print(\"ROC AUC:\" + str(auc(fpr24, tpr24)))"
   ]
  },
  {
   "cell_type": "code",
   "execution_count": null,
   "id": "d370fb40",
   "metadata": {
    "id": "d370fb40",
    "outputId": "e352e598-4257-4801-e9ad-2def72819a89"
   },
   "outputs": [],
   "source": [
    "fpr25, tpr25, thresholds25 = roc_curve(Y_test[:,24], probs[:, 24])\n",
    "prec25, recall25, thresholds25 = precision_recall_curve(Y_test[:,24], probs[:, 24])\n",
    "\n",
    "plt.plot(fpr25,tpr25,label=\"ROC\")\n",
    "plt.plot(recall25,prec25,label=\"PRC\")\n",
    "\n",
    "plt.xlabel('False Positive Rate/Recall')\n",
    "plt.ylabel('True Positive Rate/Precision')\n",
    "\n",
    "plt.legend()\n",
    "plt.title('24')\n",
    "plt.show()\n",
    "\n",
    "print(\"PRC AUC:\" + str(auc(recall25, prec25)))\n",
    "print(\"ROC AUC:\" + str(auc(fpr25, tpr25)))"
   ]
  },
  {
   "cell_type": "code",
   "execution_count": null,
   "id": "1f6fdf05",
   "metadata": {
    "id": "1f6fdf05",
    "outputId": "981292f4-e492-478c-d028-1828c780d7ef"
   },
   "outputs": [],
   "source": [
    "fpr26, tpr26, thresholds26 = roc_curve(Y_test[:,25], probs[:, 25])\n",
    "prec26, recall26, thresholds26 = precision_recall_curve(Y_test[:,25], probs[:, 25])\n",
    "\n",
    "plt.plot(fpr26,tpr26,label=\"ROC\")\n",
    "plt.plot(recall26,prec26,label=\"PRC\")\n",
    "\n",
    "plt.xlabel('False Positive Rate/Recall')\n",
    "plt.ylabel('True Positive Rate/Precision')\n",
    "\n",
    "plt.legend()\n",
    "plt.title('25')\n",
    "plt.show()\n",
    "\n",
    "print(\"PRC AUC:\" + str(auc(recall26, prec26)))\n",
    "print(\"ROC AUC:\" + str(auc(fpr26, tpr26)))"
   ]
  },
  {
   "cell_type": "code",
   "execution_count": null,
   "id": "3b77b440",
   "metadata": {
    "id": "3b77b440",
    "outputId": "f4826f76-3b9a-4175-cdd4-891d6f9a880b"
   },
   "outputs": [],
   "source": [
    "fpr27, tpr27, thresholds27 = roc_curve(Y_test[:,26], probs[:, 26])\n",
    "prec27, recall27, thresholds27 = precision_recall_curve(Y_test[:,26], probs[:, 26])\n",
    "\n",
    "plt.plot(fpr27,tpr27,label=\"ROC\")\n",
    "plt.plot(recall27,prec27,label=\"PRC\")\n",
    "\n",
    "plt.xlabel('False Positive Rate/Recall')\n",
    "plt.ylabel('True Positive Rate/Precision')\n",
    "\n",
    "plt.legend()\n",
    "plt.title('26')\n",
    "plt.show()\n",
    "\n",
    "print(\"PRC AUC:\" + str(auc(recall27, prec27)))\n",
    "print(\"ROC AUC:\" + str(auc(fpr27, tpr27)))"
   ]
  },
  {
   "cell_type": "code",
   "execution_count": null,
   "id": "3a022ffa",
   "metadata": {
    "id": "3a022ffa",
    "outputId": "9e708af9-576a-4f3e-d7a6-897c50aeed5e"
   },
   "outputs": [],
   "source": [
    "fpr28, tpr28, thresholds28 = roc_curve(Y_test[:,27], probs[:, 27])\n",
    "prec28, recall28, thresholds28 = precision_recall_curve(Y_test[:,27], probs[:, 27])\n",
    "\n",
    "plt.plot(fpr28,tpr28,label=\"ROC\")\n",
    "plt.plot(recall28,prec28,label=\"PRC\")\n",
    "\n",
    "plt.xlabel('False Positive Rate/Recall')\n",
    "plt.ylabel('True Positive Rate/Precision')\n",
    "\n",
    "plt.legend()\n",
    "plt.title('27')\n",
    "plt.show()\n",
    "\n",
    "print(\"PRC AUC:\" + str(auc(recall28, prec28)))\n",
    "print(\"ROC AUC:\" + str(auc(fpr28, tpr28)))"
   ]
  },
  {
   "cell_type": "code",
   "execution_count": null,
   "id": "bc528ddb",
   "metadata": {
    "id": "bc528ddb",
    "outputId": "6470e194-92ec-4539-dc21-1d9fe029f121"
   },
   "outputs": [],
   "source": [
    "fpr29, tpr29, thresholds29 = roc_curve(Y_test[:,28], probs[:, 28])\n",
    "prec29, recall29, thresholds29 = precision_recall_curve(Y_test[:,28], probs[:, 28])\n",
    "\n",
    "plt.plot(fpr29,tpr29,label=\"ROC\")\n",
    "plt.plot(recall29,prec29,label=\"PRC\")\n",
    "\n",
    "plt.xlabel('False Positive Rate/Recall')\n",
    "plt.ylabel('True Positive Rate/Precision')\n",
    "\n",
    "plt.legend()\n",
    "plt.title('28')\n",
    "plt.show()\n",
    "\n",
    "print(\"PRC AUC:\" + str(auc(recall29, prec29)))\n",
    "print(\"ROC AUC:\" + str(auc(fpr29, tpr29)))"
   ]
  },
  {
   "cell_type": "code",
   "execution_count": null,
   "id": "bce5b1f7",
   "metadata": {
    "id": "bce5b1f7",
    "outputId": "5d71d9f4-9ebb-4139-bfb8-26271d146461"
   },
   "outputs": [],
   "source": [
    "fpr30, tpr30, thresholds30 = roc_curve(Y_test[:,29], probs[:, 29])\n",
    "prec30, recall30, thresholds30 = precision_recall_curve(Y_test[:,29], probs[:, 29])\n",
    "\n",
    "plt.plot(fpr30,tpr30,label=\"ROC\")\n",
    "plt.plot(recall30,prec30,label=\"PRC\")\n",
    "\n",
    "plt.xlabel('False Positive Rate/Recall')\n",
    "plt.ylabel('True Positive Rate/Precision')\n",
    "\n",
    "plt.legend()\n",
    "plt.title('29')\n",
    "plt.show()\n",
    "\n",
    "print(\"PRC AUC:\" + str(auc(recall30, prec30)))\n",
    "print(\"ROC AUC:\" + str(auc(fpr30, tpr30)))"
   ]
  },
  {
   "cell_type": "markdown",
   "id": "59ab76db",
   "metadata": {
    "id": "59ab76db"
   },
   "source": [
    "### ROC and PRC Curve 30-39"
   ]
  },
  {
   "cell_type": "code",
   "execution_count": null,
   "id": "7c315c71",
   "metadata": {
    "id": "7c315c71",
    "outputId": "6cd3dcf6-b021-42e3-851e-1266419faf41"
   },
   "outputs": [],
   "source": [
    "fpr31, tpr31, thresholds31 = roc_curve(Y_test[:,30], probs[:,30])\n",
    "prec31, recall31, thresholds31 = precision_recall_curve(Y_test[:,30], probs[:,30])\n",
    "\n",
    "plt.plot(fpr31,tpr31,label=\"ROC\")\n",
    "plt.plot(recall31,prec31,label=\"PRC\")\n",
    "\n",
    "plt.xlabel('False Positive Rate/Recall')\n",
    "plt.ylabel('True Positive Rate/Precision')\n",
    "\n",
    "plt.legend()\n",
    "plt.title('30')\n",
    "plt.show()\n",
    "\n",
    "print(\"PRC AUC:\" + str(auc(recall31, prec31)))\n",
    "print(\"ROC AUC:\" + str(auc(fpr31, tpr31)))"
   ]
  },
  {
   "cell_type": "code",
   "execution_count": null,
   "id": "e7cb0fbd",
   "metadata": {
    "id": "e7cb0fbd",
    "outputId": "43495958-8961-4740-9bba-a9167e4063f9"
   },
   "outputs": [],
   "source": [
    "fpr32, tpr32, thresholds32 = roc_curve(Y_test[:,31], probs[:, 31])\n",
    "prec32, recall32, thresholds32 = precision_recall_curve(Y_test[:,31], probs[:, 31])\n",
    "\n",
    "plt.plot(fpr32,tpr32,label=\"ROC\")\n",
    "plt.plot(recall32,prec32,label=\"PRC\")\n",
    "\n",
    "plt.xlabel('False Positive Rate/Recall')\n",
    "plt.ylabel('True Positive Rate/Precision')\n",
    "\n",
    "plt.legend()\n",
    "plt.title('31')\n",
    "plt.show()\n",
    "\n",
    "print(\"PRC AUC:\" + str(auc(recall32, prec32)))\n",
    "print(\"ROC AUC:\" + str(auc(fpr32, tpr32)))"
   ]
  },
  {
   "cell_type": "code",
   "execution_count": null,
   "id": "242d9833",
   "metadata": {
    "id": "242d9833",
    "outputId": "2e4f6e18-b9eb-4955-fb17-394b549fc824"
   },
   "outputs": [],
   "source": [
    "fpr33, tpr33, thresholds33 = roc_curve(Y_test[:,32], probs[:, 32])\n",
    "prec33, recall33, thresholds33 = precision_recall_curve(Y_test[:,32], probs[:, 32])\n",
    "\n",
    "plt.plot(fpr33,tpr33,label=\"ROC\")\n",
    "plt.plot(recall33,prec33,label=\"PRC\")\n",
    "\n",
    "plt.xlabel('False Positive Rate/Recall')\n",
    "plt.ylabel('True Positive Rate/Precision')\n",
    "\n",
    "plt.legend()\n",
    "plt.title('32')\n",
    "plt.show()\n",
    "\n",
    "print(\"PRC AUC:\" + str(auc(recall33, prec33)))\n",
    "print(\"ROC AUC:\" + str(auc(fpr33, tpr33)))"
   ]
  },
  {
   "cell_type": "code",
   "execution_count": null,
   "id": "449023c3",
   "metadata": {
    "id": "449023c3",
    "outputId": "443a0d78-d5cc-4619-fd68-8c32e3391061"
   },
   "outputs": [],
   "source": [
    "fpr34, tpr34, thresholds34 = roc_curve(Y_test[:,33], probs[:, 33])\n",
    "prec34, recall34, thresholds34 = precision_recall_curve(Y_test[:,33], probs[:, 33])\n",
    "\n",
    "plt.plot(fpr34,tpr34,label=\"ROC\")\n",
    "plt.plot(recall34,prec34,label=\"PRC\")\n",
    "\n",
    "plt.xlabel('False Positive Rate/Recall')\n",
    "plt.ylabel('True Positive Rate/Precision')\n",
    "\n",
    "plt.legend()\n",
    "plt.title('33')\n",
    "plt.show()\n",
    "\n",
    "print(\"PRC AUC:\" + str(auc(recall34, prec34)))\n",
    "print(\"ROC AUC:\" + str(auc(fpr34, tpr34)))"
   ]
  },
  {
   "cell_type": "code",
   "execution_count": null,
   "id": "8f46e9fb",
   "metadata": {
    "id": "8f46e9fb",
    "outputId": "8f99c75f-2cce-465d-aa34-695dd13344af"
   },
   "outputs": [],
   "source": [
    "fpr35, tpr35, thresholds35 = roc_curve(Y_test[:,34], probs[:, 34])\n",
    "prec35, recall35, thresholds35 = precision_recall_curve(Y_test[:,34], probs[:, 34])\n",
    "\n",
    "plt.plot(fpr35,tpr35,label=\"ROC\")\n",
    "plt.plot(recall35,prec35,label=\"PRC\")\n",
    "\n",
    "plt.xlabel('False Positive Rate/Recall')\n",
    "plt.ylabel('True Positive Rate/Precision')\n",
    "\n",
    "plt.legend()\n",
    "plt.title('34')\n",
    "plt.show()\n",
    "\n",
    "print(\"PRC AUC:\" + str(auc(recall35, prec35)))\n",
    "print(\"ROC AUC:\" + str(auc(fpr35, tpr35)))"
   ]
  },
  {
   "cell_type": "code",
   "execution_count": null,
   "id": "09d20639",
   "metadata": {
    "id": "09d20639",
    "outputId": "3cd97ae7-ca33-4d39-b8c4-16ced3e6d1a6"
   },
   "outputs": [],
   "source": [
    "fpr36, tpr36, thresholds36 = roc_curve(Y_test[:,35], probs[:, 35])\n",
    "prec36, recall36, thresholds36 = precision_recall_curve(Y_test[:,35], probs[:, 35])\n",
    "\n",
    "plt.plot(fpr36,tpr36,label=\"ROC\")\n",
    "plt.plot(recall36,prec36,label=\"PRC\")\n",
    "\n",
    "plt.xlabel('False Positive Rate/Recall')\n",
    "plt.ylabel('True Positive Rate/Precision')\n",
    "\n",
    "plt.legend()\n",
    "plt.title('35')\n",
    "plt.show()\n",
    "\n",
    "print(\"PRC AUC:\" + str(auc(recall36, prec36)))\n",
    "print(\"ROC AUC:\" + str(auc(fpr36, tpr36)))"
   ]
  },
  {
   "cell_type": "code",
   "execution_count": null,
   "id": "73e4e2b4",
   "metadata": {
    "id": "73e4e2b4",
    "outputId": "2c8d6e73-7512-4e27-fd3a-f8ddd798299d"
   },
   "outputs": [],
   "source": [
    "fpr37, tpr37, thresholds37 = roc_curve(Y_test[:,36], probs[:, 36])\n",
    "prec37, recall37, thresholds37 = precision_recall_curve(Y_test[:,36], probs[:, 36])\n",
    "\n",
    "plt.plot(fpr37,tpr37,label=\"ROC\")\n",
    "plt.plot(recall37,prec37,label=\"PRC\")\n",
    "\n",
    "plt.xlabel('False Positive Rate/Recall')\n",
    "plt.ylabel('True Positive Rate/Precision')\n",
    "\n",
    "plt.legend()\n",
    "plt.title('36')\n",
    "plt.show()\n",
    "\n",
    "print(\"PRC AUC:\" + str(auc(recall37, prec37)))\n",
    "print(\"ROC AUC:\" + str(auc(fpr37, tpr37)))"
   ]
  },
  {
   "cell_type": "code",
   "execution_count": null,
   "id": "d1dd3f29",
   "metadata": {
    "id": "d1dd3f29",
    "outputId": "49c44ce3-1275-4fb8-a8d7-71ea356dfd03"
   },
   "outputs": [],
   "source": [
    "fpr38, tpr38, thresholds38 = roc_curve(Y_test[:,37], probs[:, 37])\n",
    "prec38, recall38, thresholds38 = precision_recall_curve(Y_test[:,37], probs[:, 37])\n",
    "\n",
    "plt.plot(fpr38,tpr38,label=\"ROC\")\n",
    "plt.plot(recall38,prec38,label=\"PRC\")\n",
    "\n",
    "plt.xlabel('False Positive Rate/Recall')\n",
    "plt.ylabel('True Positive Rate/Precision')\n",
    "\n",
    "plt.legend()\n",
    "plt.title('37')\n",
    "plt.show()\n",
    "\n",
    "print(\"PRC AUC:\" + str(auc(recall38, prec38)))\n",
    "print(\"ROC AUC:\" + str(auc(fpr38, tpr38)))"
   ]
  },
  {
   "cell_type": "code",
   "execution_count": null,
   "id": "82126ffb",
   "metadata": {
    "id": "82126ffb",
    "outputId": "71f709cf-045f-44c0-8a99-a0d9173c98c5"
   },
   "outputs": [],
   "source": [
    "fpr39, tpr39, thresholds39 = roc_curve(Y_test[:,38], probs[:, 38])\n",
    "prec39, recall39, thresholds39 = precision_recall_curve(Y_test[:,38], probs[:, 38])\n",
    "\n",
    "plt.plot(fpr39,tpr39,label=\"ROC\")\n",
    "plt.plot(recall39,prec39,label=\"PRC\")\n",
    "\n",
    "plt.xlabel('False Positive Rate/Recall')\n",
    "plt.ylabel('True Positive Rate/Precision')\n",
    "\n",
    "plt.legend()\n",
    "plt.title('38')\n",
    "plt.show()\n",
    "\n",
    "print(\"PRC AUC:\" + str(auc(recall39, prec39)))\n",
    "print(\"ROC AUC:\" + str(auc(fpr39, tpr39)))"
   ]
  },
  {
   "cell_type": "code",
   "execution_count": null,
   "id": "3bf87bd5",
   "metadata": {
    "id": "3bf87bd5",
    "outputId": "1148b3d2-8a95-4672-ed95-2df2f9daf857"
   },
   "outputs": [],
   "source": [
    "fpr40, tpr40, thresholds40 = roc_curve(Y_test[:,39], probs[:, 39])\n",
    "prec40, recall40, thresholds40 = precision_recall_curve(Y_test[:,39], probs[:, 39])\n",
    "\n",
    "plt.plot(fpr40,tpr40,label=\"ROC\")\n",
    "plt.plot(recall40,prec40,label=\"PRC\")\n",
    "\n",
    "plt.xlabel('False Positive Rate/Recall')\n",
    "plt.ylabel('True Positive Rate/Precision')\n",
    "\n",
    "plt.legend()\n",
    "plt.title('39')\n",
    "plt.show()\n",
    "\n",
    "print(\"PRC AUC:\" + str(auc(recall40, prec40)))\n",
    "print(\"ROC AUC:\" + str(auc(fpr40, tpr40)))"
   ]
  },
  {
   "cell_type": "markdown",
   "id": "da3a239f",
   "metadata": {
    "id": "da3a239f"
   },
   "source": [
    "### ROC and PRC Curve 40-49"
   ]
  },
  {
   "cell_type": "code",
   "execution_count": null,
   "id": "5897231a",
   "metadata": {
    "id": "5897231a",
    "outputId": "155aee6e-b392-44b6-9329-3e502aacc7e7"
   },
   "outputs": [],
   "source": [
    "fpr41, tpr41, thresholds41 = roc_curve(Y_test[:,40], probs[:,40])\n",
    "prec41, recall41, thresholds41 = precision_recall_curve(Y_test[:,40], probs[:,40])\n",
    "\n",
    "plt.plot(fpr41,tpr41,label=\"ROC\")\n",
    "plt.plot(recall41,prec41,label=\"PRC\")\n",
    "\n",
    "plt.xlabel('False Positive Rate/Recall')\n",
    "plt.ylabel('True Positive Rate/Precision')\n",
    "\n",
    "plt.legend()\n",
    "plt.title('40')\n",
    "plt.show()\n",
    "\n",
    "print(\"PRC AUC:\" + str(auc(recall41, prec41)))\n",
    "print(\"ROC AUC:\" + str(auc(fpr41, tpr41)))"
   ]
  },
  {
   "cell_type": "code",
   "execution_count": null,
   "id": "3b845a94",
   "metadata": {
    "id": "3b845a94",
    "outputId": "207ab821-0a60-42d6-e2ba-bc5e5def0086"
   },
   "outputs": [],
   "source": [
    "fpr42, tpr42, thresholds42 = roc_curve(Y_test[:,41], probs[:, 41])\n",
    "prec42, recall42, thresholds42 = precision_recall_curve(Y_test[:,41], probs[:, 41])\n",
    "\n",
    "plt.plot(fpr42,tpr42,label=\"ROC\")\n",
    "plt.plot(recall42,prec42,label=\"PRC\")\n",
    "\n",
    "plt.xlabel('False Positive Rate/Recall')\n",
    "plt.ylabel('True Positive Rate/Precision')\n",
    "\n",
    "plt.legend()\n",
    "plt.title('41')\n",
    "plt.show()\n",
    "\n",
    "print(\"PRC AUC:\" + str(auc(recall42, prec42)))\n",
    "print(\"ROC AUC:\" + str(auc(fpr42, tpr42)))"
   ]
  },
  {
   "cell_type": "code",
   "execution_count": null,
   "id": "fdfabb32",
   "metadata": {
    "id": "fdfabb32",
    "outputId": "7203c0be-4286-471a-edbd-f67430331d60"
   },
   "outputs": [],
   "source": [
    "fpr43, tpr43, thresholds43 = roc_curve(Y_test[:,42], probs[:, 42])\n",
    "prec43, recall43, thresholds43 = precision_recall_curve(Y_test[:,42], probs[:, 42])\n",
    "\n",
    "plt.plot(fpr43,tpr43,label=\"ROC\")\n",
    "plt.plot(recall43,prec43,label=\"PRC\")\n",
    "\n",
    "plt.xlabel('False Positive Rate/Recall')\n",
    "plt.ylabel('True Positive Rate/Precision')\n",
    "\n",
    "plt.legend()\n",
    "plt.title('42')\n",
    "plt.show()\n",
    "\n",
    "print(\"PRC AUC:\" + str(auc(recall43, prec43)))\n",
    "print(\"ROC AUC:\" + str(auc(fpr43, tpr43)))"
   ]
  },
  {
   "cell_type": "code",
   "execution_count": null,
   "id": "573a6321",
   "metadata": {
    "id": "573a6321",
    "outputId": "3c2b0dfd-7e09-4db7-f900-86d2451f081c"
   },
   "outputs": [],
   "source": [
    "fpr44, tpr44, thresholds44 = roc_curve(Y_test[:,43], probs[:, 43])\n",
    "prec44, recall44, thresholds44 = precision_recall_curve(Y_test[:,43], probs[:, 43])\n",
    "\n",
    "plt.plot(fpr44,tpr44,label=\"ROC\")\n",
    "plt.plot(recall44,prec44,label=\"PRC\")\n",
    "\n",
    "plt.xlabel('False Positive Rate/Recall')\n",
    "plt.ylabel('True Positive Rate/Precision')\n",
    "\n",
    "plt.legend()\n",
    "plt.title('43')\n",
    "plt.show()\n",
    "\n",
    "print(\"PRC AUC:\" + str(auc(recall44, prec44)))\n",
    "print(\"ROC AUC:\" + str(auc(fpr44, tpr44)))"
   ]
  },
  {
   "cell_type": "code",
   "execution_count": null,
   "id": "00866974",
   "metadata": {
    "id": "00866974",
    "outputId": "3f660069-46f8-4c25-c2f0-88bb138defc2"
   },
   "outputs": [],
   "source": [
    "fpr45, tpr45, thresholds45 = roc_curve(Y_test[:,44], probs[:, 44])\n",
    "prec45, recall45, thresholds45 = precision_recall_curve(Y_test[:,44], probs[:, 44])\n",
    "\n",
    "plt.plot(fpr45,tpr45,label=\"ROC\")\n",
    "plt.plot(recall45,prec45,label=\"PRC\")\n",
    "\n",
    "plt.xlabel('False Positive Rate/Recall')\n",
    "plt.ylabel('True Positive Rate/Precision')\n",
    "\n",
    "plt.legend()\n",
    "plt.title('44')\n",
    "plt.show()\n",
    "\n",
    "print(\"PRC AUC:\" + str(auc(recall45, prec45)))\n",
    "print(\"ROC AUC:\" + str(auc(fpr45, tpr45)))"
   ]
  },
  {
   "cell_type": "code",
   "execution_count": null,
   "id": "d73c23cc",
   "metadata": {
    "id": "d73c23cc",
    "outputId": "9642926d-5a96-4092-82b8-e1045cae029c"
   },
   "outputs": [],
   "source": [
    "fpr46, tpr46, thresholds46 = roc_curve(Y_test[:,45], probs[:, 45])\n",
    "prec46, recall46, thresholds46 = precision_recall_curve(Y_test[:,45], probs[:, 45])\n",
    "\n",
    "plt.plot(fpr46,tpr46,label=\"ROC\")\n",
    "plt.plot(recall46,prec46,label=\"PRC\")\n",
    "\n",
    "plt.xlabel('False Positive Rate/Recall')\n",
    "plt.ylabel('True Positive Rate/Precision')\n",
    "\n",
    "plt.legend()\n",
    "plt.title('45')\n",
    "plt.show()\n",
    "\n",
    "print(\"PRC AUC:\" + str(auc(recall46, prec46)))\n",
    "print(\"ROC AUC:\" + str(auc(fpr46, tpr46)))"
   ]
  },
  {
   "cell_type": "code",
   "execution_count": null,
   "id": "95f0bd18",
   "metadata": {
    "id": "95f0bd18",
    "outputId": "777348ff-d020-40fa-d6ac-24aad8aa5b8c"
   },
   "outputs": [],
   "source": [
    "fpr47, tpr47, thresholds47 = roc_curve(Y_test[:,46], probs[:, 46])\n",
    "prec47, recall47, thresholds47 = precision_recall_curve(Y_test[:,46], probs[:, 46])\n",
    "\n",
    "plt.plot(fpr47,tpr47,label=\"ROC\")\n",
    "plt.plot(recall47,prec47,label=\"PRC\")\n",
    "\n",
    "plt.xlabel('False Positive Rate/Recall')\n",
    "plt.ylabel('True Positive Rate/Precision')\n",
    "\n",
    "plt.legend()\n",
    "plt.title('46')\n",
    "plt.show()\n",
    "\n",
    "print(\"PRC AUC:\" + str(auc(recall47, prec47)))\n",
    "print(\"ROC AUC:\" + str(auc(fpr47, tpr47)))"
   ]
  },
  {
   "cell_type": "code",
   "execution_count": null,
   "id": "2699e832",
   "metadata": {
    "id": "2699e832",
    "outputId": "a6d3e830-4bfb-484c-c5cf-a8b823608f4c"
   },
   "outputs": [],
   "source": [
    "fpr48, tpr48, thresholds48 = roc_curve(Y_test[:,47], probs[:, 47])\n",
    "prec48, recall48, thresholds48 = precision_recall_curve(Y_test[:,47], probs[:, 47])\n",
    "\n",
    "plt.plot(fpr48,tpr48,label=\"ROC\")\n",
    "plt.plot(recall48,prec48,label=\"PRC\")\n",
    "\n",
    "plt.xlabel('False Positive Rate/Recall')\n",
    "plt.ylabel('True Positive Rate/Precision')\n",
    "\n",
    "plt.legend()\n",
    "plt.title('47')\n",
    "plt.show()\n",
    "\n",
    "print(\"PRC AUC:\" + str(auc(recall48, prec48)))\n",
    "print(\"ROC AUC:\" + str(auc(fpr48, tpr48)))"
   ]
  },
  {
   "cell_type": "code",
   "execution_count": null,
   "id": "720279fb",
   "metadata": {
    "id": "720279fb",
    "outputId": "d83a5b68-ec4b-41a1-e643-6dc34126da9c"
   },
   "outputs": [],
   "source": [
    "fpr49, tpr49, thresholds49 = roc_curve(Y_test[:,48], probs[:, 48])\n",
    "prec49, recall49, thresholds49 = precision_recall_curve(Y_test[:,48], probs[:, 48])\n",
    "\n",
    "plt.plot(fpr49,tpr49,label=\"ROC\")\n",
    "plt.plot(recall49,prec49,label=\"PRC\")\n",
    "\n",
    "plt.xlabel('False Positive Rate/Recall')\n",
    "plt.ylabel('True Positive Rate/Precision')\n",
    "\n",
    "plt.legend()\n",
    "plt.title('48')\n",
    "plt.show()\n",
    "\n",
    "print(\"PRC AUC:\" + str(auc(recall49, prec49)))\n",
    "print(\"ROC AUC:\" + str(auc(fpr49, tpr49)))"
   ]
  },
  {
   "cell_type": "code",
   "execution_count": null,
   "id": "6ac75a01",
   "metadata": {
    "id": "6ac75a01",
    "outputId": "62522854-b1a1-42ed-a109-658646517352"
   },
   "outputs": [],
   "source": [
    "fpr50, tpr50, thresholds50 = roc_curve(Y_test[:,49], probs[:, 49])\n",
    "prec50, recall50, thresholds50 = precision_recall_curve(Y_test[:,49], probs[:, 49])\n",
    "\n",
    "plt.plot(fpr50,tpr50,label=\"ROC\")\n",
    "plt.plot(recall50,prec50,label=\"PRC\")\n",
    "\n",
    "plt.xlabel('False Positive Rate/Recall')\n",
    "plt.ylabel('True Positive Rate/Precision')\n",
    "\n",
    "plt.legend()\n",
    "plt.title('49')\n",
    "plt.show()\n",
    "\n",
    "print(\"PRC AUC:\" + str(auc(recall50, prec50)))\n",
    "print(\"ROC AUC:\" + str(auc(fpr50, tpr50)))"
   ]
  },
  {
   "cell_type": "markdown",
   "id": "9d776eeb",
   "metadata": {
    "id": "9d776eeb"
   },
   "source": [
    "## 50-99"
   ]
  },
  {
   "cell_type": "markdown",
   "id": "d6f7bf8b",
   "metadata": {
    "id": "d6f7bf8b"
   },
   "source": [
    "### ROC and PRC Curves 50-59 "
   ]
  },
  {
   "cell_type": "code",
   "execution_count": null,
   "id": "ac997c76",
   "metadata": {
    "id": "ac997c76",
    "outputId": "d6511105-a5dd-4134-e75c-c77d3be86898"
   },
   "outputs": [],
   "source": [
    "fpr51, tpr51, thresholds51 = roc_curve(Y_test[:,50], probs[:,50])\n",
    "prec51, recall51, thresholds51 = precision_recall_curve(Y_test[:,50], probs[:,50])\n",
    "\n",
    "plt.plot(fpr51,tpr51,label=\"ROC\")\n",
    "plt.plot(recall51,prec51,label=\"PRC\")\n",
    "\n",
    "plt.xlabel('False Positive Rate/Recall')\n",
    "plt.ylabel('True Positive Rate/Precision')\n",
    "\n",
    "plt.legend()\n",
    "plt.title('50')\n",
    "plt.show()\n",
    "\n",
    "print(\"PRC AUC:\" + str(auc(recall51, prec51)))\n",
    "print(\"ROC AUC:\" + str(auc(fpr51, tpr51)))"
   ]
  },
  {
   "cell_type": "code",
   "execution_count": null,
   "id": "c3337f66",
   "metadata": {
    "id": "c3337f66",
    "outputId": "1c66ca17-b14e-466f-c1ed-092a10976147"
   },
   "outputs": [],
   "source": [
    "fpr52, tpr52, thresholds52 = roc_curve(Y_test[:,51], probs[:, 51])\n",
    "prec52, recall52, thresholds52 = precision_recall_curve(Y_test[:,51], probs[:, 51])\n",
    "\n",
    "plt.plot(fpr52,tpr52,label=\"ROC\")\n",
    "plt.plot(recall52,prec52,label=\"PRC\")\n",
    "\n",
    "plt.xlabel('False Positive Rate/Recall')\n",
    "plt.ylabel('True Positive Rate/Precision')\n",
    "\n",
    "plt.legend()\n",
    "plt.title('51')\n",
    "plt.show()\n",
    "\n",
    "print(\"PRC AUC:\" + str(auc(recall52, prec52)))\n",
    "print(\"ROC AUC:\" + str(auc(fpr52, tpr52)))"
   ]
  },
  {
   "cell_type": "code",
   "execution_count": null,
   "id": "5da7a53c",
   "metadata": {
    "id": "5da7a53c",
    "outputId": "2ded2519-1454-463b-eb48-0c904eedf519"
   },
   "outputs": [],
   "source": [
    "fpr53, tpr53, thresholds53 = roc_curve(Y_test[:,52], probs[:, 52])\n",
    "prec53, recall53, thresholds53 = precision_recall_curve(Y_test[:,52], probs[:, 52])\n",
    "\n",
    "plt.plot(fpr53,tpr53,label=\"ROC\")\n",
    "plt.plot(recall53,prec53,label=\"PRC\")\n",
    "\n",
    "plt.xlabel('False Positive Rate/Recall')\n",
    "plt.ylabel('True Positive Rate/Precision')\n",
    "\n",
    "plt.legend()\n",
    "plt.title('52')\n",
    "plt.show()\n",
    "\n",
    "print(\"PRC AUC:\" + str(auc(recall53, prec53)))\n",
    "print(\"ROC AUC:\" + str(auc(fpr53, tpr53)))"
   ]
  },
  {
   "cell_type": "code",
   "execution_count": null,
   "id": "68373711",
   "metadata": {
    "id": "68373711",
    "outputId": "fe94fde0-43a0-485b-abec-2c9b55599943"
   },
   "outputs": [],
   "source": [
    "fpr54, tpr54, thresholds54 = roc_curve(Y_test[:,53], probs[:, 53])\n",
    "prec54, recall54, thresholds54 = precision_recall_curve(Y_test[:,53], probs[:, 53])\n",
    "\n",
    "plt.plot(fpr54,tpr54,label=\"ROC\")\n",
    "plt.plot(recall54,prec54,label=\"PRC\")\n",
    "\n",
    "plt.xlabel('False Positive Rate/Recall')\n",
    "plt.ylabel('True Positive Rate/Precision')\n",
    "\n",
    "plt.legend()\n",
    "plt.title('53')\n",
    "plt.show()\n",
    "\n",
    "print(\"PRC AUC:\" + str(auc(recall54, prec54)))\n",
    "print(\"ROC AUC:\" + str(auc(fpr54, tpr54)))"
   ]
  },
  {
   "cell_type": "code",
   "execution_count": null,
   "id": "0064d899",
   "metadata": {
    "id": "0064d899",
    "outputId": "901fb29a-a238-43c7-bcfd-2a786305df7d"
   },
   "outputs": [],
   "source": [
    "fpr55, tpr55, thresholds55 = roc_curve(Y_test[:,54], probs[:, 54])\n",
    "prec55, recall55, thresholds55 = precision_recall_curve(Y_test[:,54], probs[:, 54])\n",
    "\n",
    "plt.plot(fpr55,tpr55,label=\"ROC\")\n",
    "plt.plot(recall55,prec55,label=\"PRC\")\n",
    "\n",
    "plt.xlabel('False Positive Rate/Recall')\n",
    "plt.ylabel('True Positive Rate/Precision')\n",
    "\n",
    "plt.legend()\n",
    "plt.title('54')\n",
    "plt.show()\n",
    "\n",
    "print(\"PRC AUC:\" + str(auc(recall55, prec55)))\n",
    "print(\"ROC AUC:\" + str(auc(fpr55, tpr55)))"
   ]
  },
  {
   "cell_type": "code",
   "execution_count": null,
   "id": "8118f6e6",
   "metadata": {
    "id": "8118f6e6",
    "outputId": "2df6fa6b-7964-4144-c35d-66f27e706ff3"
   },
   "outputs": [],
   "source": [
    "fpr56, tpr56, thresholds56 = roc_curve(Y_test[:,55], probs[:, 55])\n",
    "prec56, recall56, thresholds56 = precision_recall_curve(Y_test[:,55], probs[:, 55])\n",
    "\n",
    "plt.plot(fpr56,tpr56,label=\"ROC\")\n",
    "plt.plot(recall56,prec56,label=\"PRC\")\n",
    "\n",
    "plt.xlabel('False Positive Rate/Recall')\n",
    "plt.ylabel('True Positive Rate/Precision')\n",
    "\n",
    "plt.legend()\n",
    "plt.title('55')\n",
    "plt.show()\n",
    "\n",
    "print(\"PRC AUC:\" + str(auc(recall56, prec56)))\n",
    "print(\"ROC AUC:\" + str(auc(fpr56, tpr56)))"
   ]
  },
  {
   "cell_type": "code",
   "execution_count": null,
   "id": "b3772502",
   "metadata": {
    "id": "b3772502",
    "outputId": "9a2c471a-bdc2-4265-c11c-b42c2ea3e0a6"
   },
   "outputs": [],
   "source": [
    "fpr57, tpr57, thresholds57 = roc_curve(Y_test[:,56], probs[:, 56])\n",
    "prec57, recall57, thresholds57 = precision_recall_curve(Y_test[:,56], probs[:, 56])\n",
    "\n",
    "plt.plot(fpr57,tpr57,label=\"ROC\")\n",
    "plt.plot(recall57,prec57,label=\"PRC\")\n",
    "\n",
    "plt.xlabel('False Positive Rate/Recall')\n",
    "plt.ylabel('True Positive Rate/Precision')\n",
    "\n",
    "plt.legend()\n",
    "plt.title('56')\n",
    "plt.show()\n",
    "\n",
    "print(\"PRC AUC:\" + str(auc(recall57, prec57)))\n",
    "print(\"ROC AUC:\" + str(auc(fpr57, tpr57)))"
   ]
  },
  {
   "cell_type": "code",
   "execution_count": null,
   "id": "d95be752",
   "metadata": {
    "id": "d95be752",
    "outputId": "221a53ef-c35a-43da-9cd4-bd71b8cba9b6"
   },
   "outputs": [],
   "source": [
    "fpr58, tpr58, thresholds58 = roc_curve(Y_test[:,57], probs[:, 57])\n",
    "prec58, recall58, thresholds58 = precision_recall_curve(Y_test[:,57], probs[:, 57])\n",
    "\n",
    "plt.plot(fpr58,tpr58,label=\"ROC\")\n",
    "plt.plot(recall58,prec58,label=\"PRC\")\n",
    "\n",
    "plt.xlabel('False Positive Rate/Recall')\n",
    "plt.ylabel('True Positive Rate/Precision')\n",
    "\n",
    "plt.legend()\n",
    "plt.title('57')\n",
    "plt.show()\n",
    "\n",
    "print(\"PRC AUC:\" + str(auc(recall58, prec58)))\n",
    "print(\"ROC AUC:\" + str(auc(fpr58, tpr58)))"
   ]
  },
  {
   "cell_type": "code",
   "execution_count": null,
   "id": "60c5374f",
   "metadata": {
    "id": "60c5374f",
    "outputId": "5ef18483-1ce6-4c96-d904-ad1be72b8869"
   },
   "outputs": [],
   "source": [
    "fpr59, tpr59, thresholds59 = roc_curve(Y_test[:,58], probs[:, 58])\n",
    "prec59, recall59, thresholds59 = precision_recall_curve(Y_test[:,58], probs[:, 58])\n",
    "\n",
    "plt.plot(fpr59,tpr59,label=\"ROC\")\n",
    "plt.plot(recall59,prec59,label=\"PRC\")\n",
    "\n",
    "plt.xlabel('False Positive Rate/Recall')\n",
    "plt.ylabel('True Positive Rate/Precision')\n",
    "\n",
    "plt.legend()\n",
    "plt.title('58')\n",
    "plt.show()\n",
    "\n",
    "print(\"PRC AUC:\" + str(auc(recall59, prec59)))\n",
    "print(\"ROC AUC:\" + str(auc(fpr59, tpr59)))"
   ]
  },
  {
   "cell_type": "code",
   "execution_count": null,
   "id": "40683e9e",
   "metadata": {
    "id": "40683e9e",
    "outputId": "677998e5-9d7b-45ac-f562-3baa053033d3"
   },
   "outputs": [],
   "source": [
    "fpr60, tpr60, thresholds60 = roc_curve(Y_test[:,59], probs[:, 59])\n",
    "prec60, recall60, thresholds60 = precision_recall_curve(Y_test[:,59], probs[:, 59])\n",
    "\n",
    "plt.plot(fpr60,tpr60,label=\"ROC\")\n",
    "plt.plot(recall60,prec60,label=\"PRC\")\n",
    "\n",
    "plt.xlabel('False Positive Rate/Recall')\n",
    "plt.ylabel('True Positive Rate/Precision')\n",
    "\n",
    "plt.legend()\n",
    "plt.title('59')\n",
    "plt.show()\n",
    "\n",
    "print(\"PRC AUC:\" + str(auc(recall60, prec60)))\n",
    "print(\"ROC AUC:\" + str(auc(fpr60, tpr60)))"
   ]
  },
  {
   "cell_type": "markdown",
   "id": "b59cb0ea",
   "metadata": {
    "id": "b59cb0ea"
   },
   "source": [
    "### ROC and PRC Curve 60-69"
   ]
  },
  {
   "cell_type": "code",
   "execution_count": null,
   "id": "d3e39b02",
   "metadata": {
    "id": "d3e39b02",
    "outputId": "ce84dac2-eef7-491c-d27b-c81aa595d306"
   },
   "outputs": [],
   "source": [
    "fpr61, tpr61, thresholds61 = roc_curve(Y_test[:,60], probs[:,60])\n",
    "prec61, recall61, thresholds61 = precision_recall_curve(Y_test[:,60], probs[:,60])\n",
    "\n",
    "plt.plot(fpr61,tpr61,label=\"ROC\")\n",
    "plt.plot(recall61,prec61,label=\"PRC\")\n",
    "\n",
    "plt.xlabel('False Positive Rate/Recall')\n",
    "plt.ylabel('True Positive Rate/Precision')\n",
    "\n",
    "plt.legend()\n",
    "plt.title('60')\n",
    "plt.show()\n",
    "\n",
    "print(\"PRC AUC:\" + str(auc(recall61, prec61)))\n",
    "print(\"ROC AUC:\" + str(auc(fpr61, tpr61)))"
   ]
  },
  {
   "cell_type": "code",
   "execution_count": null,
   "id": "935d09d4",
   "metadata": {
    "id": "935d09d4",
    "outputId": "634be7a1-3d2b-4e18-c38c-5e4217c0ca79"
   },
   "outputs": [],
   "source": [
    "fpr62, tpr62, thresholds62 = roc_curve(Y_test[:,61], probs[:, 61])\n",
    "prec62, recall62, thresholds62 = precision_recall_curve(Y_test[:,61], probs[:, 61])\n",
    "\n",
    "plt.plot(fpr62,tpr62,label=\"ROC\")\n",
    "plt.plot(recall62,prec62,label=\"PRC\")\n",
    "\n",
    "plt.xlabel('False Positive Rate/Recall')\n",
    "plt.ylabel('True Positive Rate/Precision')\n",
    "\n",
    "plt.legend()\n",
    "plt.title('61')\n",
    "plt.show()\n",
    "\n",
    "print(\"PRC AUC:\" + str(auc(recall62, prec62)))\n",
    "print(\"ROC AUC:\" + str(auc(fpr62, tpr62)))"
   ]
  },
  {
   "cell_type": "code",
   "execution_count": null,
   "id": "11b7b99f",
   "metadata": {
    "id": "11b7b99f",
    "outputId": "2933f4e3-b6c5-430b-f93d-a835cf1458a3"
   },
   "outputs": [],
   "source": [
    "fpr63, tpr63, thresholds63 = roc_curve(Y_test[:,62], probs[:, 62])\n",
    "prec63, recall63, thresholds63 = precision_recall_curve(Y_test[:,62], probs[:, 62])\n",
    "\n",
    "plt.plot(fpr63,tpr63,label=\"ROC\")\n",
    "plt.plot(recall63,prec63,label=\"PRC\")\n",
    "\n",
    "plt.xlabel('False Positive Rate/Recall')\n",
    "plt.ylabel('True Positive Rate/Precision')\n",
    "\n",
    "plt.legend()\n",
    "plt.title('62')\n",
    "plt.show()\n",
    "\n",
    "print(\"PRC AUC:\" + str(auc(recall63, prec63)))\n",
    "print(\"ROC AUC:\" + str(auc(fpr63, tpr63)))"
   ]
  },
  {
   "cell_type": "code",
   "execution_count": null,
   "id": "daa99dd4",
   "metadata": {
    "id": "daa99dd4",
    "outputId": "e414d3f3-3c14-490a-a99c-e08e508a938f"
   },
   "outputs": [],
   "source": [
    "fpr64, tpr64, thresholds64 = roc_curve(Y_test[:,63], probs[:, 63])\n",
    "prec64, recall64, thresholds64 = precision_recall_curve(Y_test[:,63], probs[:, 63])\n",
    "\n",
    "plt.plot(fpr64,tpr64,label=\"ROC\")\n",
    "plt.plot(recall64,prec64,label=\"PRC\")\n",
    "\n",
    "plt.xlabel('False Positive Rate/Recall')\n",
    "plt.ylabel('True Positive Rate/Precision')\n",
    "\n",
    "plt.legend()\n",
    "plt.title('63')\n",
    "plt.show()\n",
    "\n",
    "print(\"PRC AUC:\" + str(auc(recall64, prec64)))\n",
    "print(\"ROC AUC:\" + str(auc(fpr64, tpr64)))"
   ]
  },
  {
   "cell_type": "code",
   "execution_count": null,
   "id": "78f3c374",
   "metadata": {
    "id": "78f3c374",
    "outputId": "80dbb9dc-e7e0-4a12-afe9-800533cced38"
   },
   "outputs": [],
   "source": [
    "fpr65, tpr65, thresholds65 = roc_curve(Y_test[:,64], probs[:, 64])\n",
    "prec65, recall65, thresholds65 = precision_recall_curve(Y_test[:,64], probs[:, 64])\n",
    "\n",
    "plt.plot(fpr65,tpr65,label=\"ROC\")\n",
    "plt.plot(recall65,prec65,label=\"PRC\")\n",
    "\n",
    "plt.xlabel('False Positive Rate/Recall')\n",
    "plt.ylabel('True Positive Rate/Precision')\n",
    "\n",
    "plt.legend()\n",
    "plt.title('64')\n",
    "plt.show()\n",
    "\n",
    "print(\"PRC AUC:\" + str(auc(recall65, prec65)))\n",
    "print(\"ROC AUC:\" + str(auc(fpr65, tpr65)))"
   ]
  },
  {
   "cell_type": "code",
   "execution_count": null,
   "id": "3b7b0a5e",
   "metadata": {
    "id": "3b7b0a5e",
    "outputId": "a368ad1f-8e1d-4250-9c23-0bab6cd414d5"
   },
   "outputs": [],
   "source": [
    "fpr66, tpr66, thresholds66 = roc_curve(Y_test[:,65], probs[:, 65])\n",
    "prec66, recall66, thresholds66 = precision_recall_curve(Y_test[:,65], probs[:, 65])\n",
    "\n",
    "plt.plot(fpr66,tpr66,label=\"ROC\")\n",
    "plt.plot(recall66,prec66,label=\"PRC\")\n",
    "\n",
    "plt.xlabel('False Positive Rate/Recall')\n",
    "plt.ylabel('True Positive Rate/Precision')\n",
    "\n",
    "plt.legend()\n",
    "plt.title('65')\n",
    "plt.show()\n",
    "\n",
    "print(\"PRC AUC:\" + str(auc(recall66, prec66)))\n",
    "print(\"ROC AUC:\" + str(auc(fpr66, tpr66)))"
   ]
  },
  {
   "cell_type": "code",
   "execution_count": null,
   "id": "a6232d9f",
   "metadata": {
    "id": "a6232d9f",
    "outputId": "af1b5cf8-c7e9-426e-997a-f4cc8d5936d6"
   },
   "outputs": [],
   "source": [
    "fpr67, tpr67, thresholds67 = roc_curve(Y_test[:,66], probs[:, 66])\n",
    "prec67, recall67, thresholds67 = precision_recall_curve(Y_test[:,66], probs[:, 66])\n",
    "\n",
    "plt.plot(fpr67,tpr67,label=\"ROC\")\n",
    "plt.plot(recall67,prec67,label=\"PRC\")\n",
    "\n",
    "plt.xlabel('False Positive Rate/Recall')\n",
    "plt.ylabel('True Positive Rate/Precision')\n",
    "\n",
    "plt.legend()\n",
    "plt.title('66')\n",
    "plt.show()\n",
    "\n",
    "print(\"PRC AUC:\" + str(auc(recall67, prec67)))\n",
    "print(\"ROC AUC:\" + str(auc(fpr67, tpr67)))"
   ]
  },
  {
   "cell_type": "code",
   "execution_count": null,
   "id": "e4538ace",
   "metadata": {
    "id": "e4538ace",
    "outputId": "08d58f43-f5d4-4f0e-de59-ade7c3143ff3"
   },
   "outputs": [],
   "source": [
    "fpr68, tpr68, thresholds68 = roc_curve(Y_test[:,67], probs[:, 67])\n",
    "prec68, recall68, thresholds68 = precision_recall_curve(Y_test[:,67], probs[:, 67])\n",
    "\n",
    "plt.plot(fpr68,tpr68,label=\"ROC\")\n",
    "plt.plot(recall68,prec68,label=\"PRC\")\n",
    "\n",
    "plt.xlabel('False Positive Rate/Recall')\n",
    "plt.ylabel('True Positive Rate/Precision')\n",
    "\n",
    "plt.legend()\n",
    "plt.title('67')\n",
    "plt.show()\n",
    "\n",
    "print(\"PRC AUC:\" + str(auc(recall68, prec68)))\n",
    "print(\"ROC AUC:\" + str(auc(fpr68, tpr68)))"
   ]
  },
  {
   "cell_type": "code",
   "execution_count": null,
   "id": "71ca2bc1",
   "metadata": {
    "id": "71ca2bc1",
    "outputId": "fc83c184-ef42-4f35-e142-560ff525ec3f"
   },
   "outputs": [],
   "source": [
    "fpr69, tpr69, thresholds69 = roc_curve(Y_test[:,68], probs[:, 68])\n",
    "prec69, recall69, thresholds69 = precision_recall_curve(Y_test[:,68], probs[:, 68])\n",
    "\n",
    "plt.plot(fpr69,tpr69,label=\"ROC\")\n",
    "plt.plot(recall69,prec69,label=\"PRC\")\n",
    "\n",
    "plt.xlabel('False Positive Rate/Recall')\n",
    "plt.ylabel('True Positive Rate/Precision')\n",
    "\n",
    "plt.legend()\n",
    "plt.title('68')\n",
    "plt.show()\n",
    "\n",
    "print(\"PRC AUC:\" + str(auc(recall69, prec69)))\n",
    "print(\"ROC AUC:\" + str(auc(fpr69, tpr69)))"
   ]
  },
  {
   "cell_type": "code",
   "execution_count": null,
   "id": "128e468e",
   "metadata": {
    "id": "128e468e",
    "outputId": "4f422713-56b7-4aef-e96f-5e703ca98753"
   },
   "outputs": [],
   "source": [
    "fpr70, tpr70, thresholds70 = roc_curve(Y_test[:,69], probs[:, 69])\n",
    "prec70, recall70, thresholds70 = precision_recall_curve(Y_test[:,69], probs[:, 69])\n",
    "\n",
    "plt.plot(fpr70,tpr70,label=\"ROC\")\n",
    "plt.plot(recall70,prec70,label=\"PRC\")\n",
    "\n",
    "plt.xlabel('False Positive Rate/Recall')\n",
    "plt.ylabel('True Positive Rate/Precision')\n",
    "\n",
    "plt.legend()\n",
    "plt.title('69')\n",
    "plt.show()\n",
    "\n",
    "print(\"PRC AUC:\" + str(auc(recall70, prec70)))\n",
    "print(\"ROC AUC:\" + str(auc(fpr70, tpr70)))"
   ]
  },
  {
   "cell_type": "markdown",
   "id": "06a1515b",
   "metadata": {
    "id": "06a1515b"
   },
   "source": [
    "### ROC and PRC Curve 70-79"
   ]
  },
  {
   "cell_type": "code",
   "execution_count": null,
   "id": "240c740c",
   "metadata": {
    "id": "240c740c",
    "outputId": "c1110b5d-b002-424a-82b0-0ddde8dc9115"
   },
   "outputs": [],
   "source": [
    "fpr71, tpr71, thresholds71 = roc_curve(Y_test[:,70], probs[:,70])\n",
    "prec71, recall71, thresholds71 = precision_recall_curve(Y_test[:,70], probs[:,70])\n",
    "\n",
    "plt.plot(fpr71,tpr71,label=\"ROC\")\n",
    "plt.plot(recall71,prec71,label=\"PRC\")\n",
    "\n",
    "plt.xlabel('False Positive Rate/Recall')\n",
    "plt.ylabel('True Positive Rate/Precision')\n",
    "\n",
    "plt.legend()\n",
    "plt.title('70')\n",
    "plt.show()\n",
    "\n",
    "print(\"PRC AUC:\" + str(auc(recall71, prec71)))\n",
    "print(\"ROC AUC:\" + str(auc(fpr71, tpr71)))"
   ]
  },
  {
   "cell_type": "code",
   "execution_count": null,
   "id": "794a5c03",
   "metadata": {
    "id": "794a5c03",
    "outputId": "cbd78652-b565-482e-b35b-d49a6871bf35"
   },
   "outputs": [],
   "source": [
    "fpr72, tpr72, thresholds72 = roc_curve(Y_test[:,71], probs[:, 71])\n",
    "prec72, recall72, thresholds72 = precision_recall_curve(Y_test[:,71], probs[:, 71])\n",
    "\n",
    "plt.plot(fpr72,tpr72,label=\"ROC\")\n",
    "plt.plot(recall72,prec72,label=\"PRC\")\n",
    "\n",
    "plt.xlabel('False Positive Rate/Recall')\n",
    "plt.ylabel('True Positive Rate/Precision')\n",
    "\n",
    "plt.legend()\n",
    "plt.title('71')\n",
    "plt.show()\n",
    "\n",
    "print(\"PRC AUC:\" + str(auc(recall72, prec72)))\n",
    "print(\"ROC AUC:\" + str(auc(fpr72, tpr72)))"
   ]
  },
  {
   "cell_type": "code",
   "execution_count": null,
   "id": "51e49854",
   "metadata": {
    "id": "51e49854",
    "outputId": "e1951402-3e18-42e0-e7bb-b0e4cdb9a765"
   },
   "outputs": [],
   "source": [
    "fpr73, tpr73, thresholds73 = roc_curve(Y_test[:,72], probs[:, 72])\n",
    "prec73, recall73, thresholds73 = precision_recall_curve(Y_test[:,72], probs[:, 72])\n",
    "\n",
    "plt.plot(fpr73,tpr73,label=\"ROC\")\n",
    "plt.plot(recall73,prec73,label=\"PRC\")\n",
    "\n",
    "plt.xlabel('False Positive Rate/Recall')\n",
    "plt.ylabel('True Positive Rate/Precision')\n",
    "\n",
    "plt.legend()\n",
    "plt.title('72')\n",
    "plt.show()\n",
    "\n",
    "print(\"PRC AUC:\" + str(auc(recall73, prec73)))\n",
    "print(\"ROC AUC:\" + str(auc(fpr73, tpr73)))"
   ]
  },
  {
   "cell_type": "code",
   "execution_count": null,
   "id": "41e4c562",
   "metadata": {
    "id": "41e4c562",
    "outputId": "825da8b1-01bf-418a-a240-224513df6172"
   },
   "outputs": [],
   "source": [
    "fpr74, tpr74, thresholds74 = roc_curve(Y_test[:,73], probs[:, 73])\n",
    "prec74, recall74, thresholds74 = precision_recall_curve(Y_test[:,73], probs[:, 73])\n",
    "\n",
    "plt.plot(fpr74,tpr74,label=\"ROC\")\n",
    "plt.plot(recall74,prec74,label=\"PRC\")\n",
    "\n",
    "plt.xlabel('False Positive Rate/Recall')\n",
    "plt.ylabel('True Positive Rate/Precision')\n",
    "\n",
    "plt.legend()\n",
    "plt.title('73')\n",
    "plt.show()\n",
    "\n",
    "print(\"PRC AUC:\" + str(auc(recall74, prec74)))\n",
    "print(\"ROC AUC:\" + str(auc(fpr74, tpr74)))"
   ]
  },
  {
   "cell_type": "code",
   "execution_count": null,
   "id": "0737f8cb",
   "metadata": {
    "id": "0737f8cb",
    "outputId": "0bc1ddc4-7829-4267-9cea-3692ef047a88"
   },
   "outputs": [],
   "source": [
    "fpr75, tpr75, thresholds75 = roc_curve(Y_test[:,74], probs[:, 74])\n",
    "prec75, recall75, thresholds75 = precision_recall_curve(Y_test[:,74], probs[:, 74])\n",
    "\n",
    "plt.plot(fpr75,tpr75,label=\"ROC\")\n",
    "plt.plot(recall75,prec75,label=\"PRC\")\n",
    "\n",
    "plt.xlabel('False Positive Rate/Recall')\n",
    "plt.ylabel('True Positive Rate/Precision')\n",
    "\n",
    "plt.legend()\n",
    "plt.title('74')\n",
    "plt.show()\n",
    "\n",
    "print(\"PRC AUC:\" + str(auc(recall75, prec75)))\n",
    "print(\"ROC AUC:\" + str(auc(fpr75, tpr75)))"
   ]
  },
  {
   "cell_type": "code",
   "execution_count": null,
   "id": "40a40766",
   "metadata": {
    "id": "40a40766",
    "outputId": "0bac462c-fe03-4296-b6a3-f3885184e3da"
   },
   "outputs": [],
   "source": [
    "fpr76, tpr76, thresholds76 = roc_curve(Y_test[:,75], probs[:, 75])\n",
    "prec76, recall76, thresholds76 = precision_recall_curve(Y_test[:,75], probs[:, 75])\n",
    "\n",
    "plt.plot(fpr76,tpr76,label=\"ROC\")\n",
    "plt.plot(recall76,prec76,label=\"PRC\")\n",
    "\n",
    "plt.xlabel('False Positive Rate/Recall')\n",
    "plt.ylabel('True Positive Rate/Precision')\n",
    "\n",
    "plt.legend()\n",
    "plt.title('75')\n",
    "plt.show()\n",
    "\n",
    "print(\"PRC AUC:\" + str(auc(recall76, prec76)))\n",
    "print(\"ROC AUC:\" + str(auc(fpr76, tpr76)))"
   ]
  },
  {
   "cell_type": "code",
   "execution_count": null,
   "id": "acb3a535",
   "metadata": {
    "id": "acb3a535",
    "outputId": "b0c01479-97aa-42e2-9afa-5238f4dc9ca8"
   },
   "outputs": [],
   "source": [
    "fpr77, tpr77, thresholds77 = roc_curve(Y_test[:,76], probs[:, 76])\n",
    "prec77, recall77, thresholds77 = precision_recall_curve(Y_test[:,76], probs[:, 76])\n",
    "\n",
    "plt.plot(fpr77,tpr77,label=\"ROC\")\n",
    "plt.plot(recall77,prec77,label=\"PRC\")\n",
    "\n",
    "plt.xlabel('False Positive Rate/Recall')\n",
    "plt.ylabel('True Positive Rate/Precision')\n",
    "\n",
    "plt.legend()\n",
    "plt.title('76')\n",
    "plt.show()\n",
    "\n",
    "print(\"PRC AUC:\" + str(auc(recall77, prec77)))\n",
    "print(\"ROC AUC:\" + str(auc(fpr77, tpr77)))"
   ]
  },
  {
   "cell_type": "code",
   "execution_count": null,
   "id": "6eb2ccfc",
   "metadata": {
    "id": "6eb2ccfc",
    "outputId": "5976a3d8-54a4-4cf6-ae25-663929f876cc"
   },
   "outputs": [],
   "source": [
    "fpr78, tpr78, thresholds78 = roc_curve(Y_test[:,77], probs[:, 77])\n",
    "prec78, recall78, thresholds78 = precision_recall_curve(Y_test[:,77], probs[:, 77])\n",
    "\n",
    "plt.plot(fpr78,tpr78,label=\"ROC\")\n",
    "plt.plot(recall78,prec78,label=\"PRC\")\n",
    "\n",
    "plt.xlabel('False Positive Rate/Recall')\n",
    "plt.ylabel('True Positive Rate/Precision')\n",
    "\n",
    "plt.legend()\n",
    "plt.title('77')\n",
    "plt.show()\n",
    "\n",
    "print(\"PRC AUC:\" + str(auc(recall78, prec78)))\n",
    "print(\"ROC AUC:\" + str(auc(fpr78, tpr78)))"
   ]
  },
  {
   "cell_type": "code",
   "execution_count": null,
   "id": "aab42f11",
   "metadata": {
    "id": "aab42f11",
    "outputId": "8c2e1149-b608-4b75-ea87-92c8d3794bd4"
   },
   "outputs": [],
   "source": [
    "fpr79, tpr79, thresholds79 = roc_curve(Y_test[:,78], probs[:, 78])\n",
    "prec79, recall79, thresholds79 = precision_recall_curve(Y_test[:,78], probs[:, 78])\n",
    "\n",
    "plt.plot(fpr79,tpr79,label=\"ROC\")\n",
    "plt.plot(recall79,prec79,label=\"PRC\")\n",
    "\n",
    "plt.xlabel('False Positive Rate/Recall')\n",
    "plt.ylabel('True Positive Rate/Precision')\n",
    "\n",
    "plt.legend()\n",
    "plt.title('78')\n",
    "plt.show()\n",
    "\n",
    "print(\"PRC AUC:\" + str(auc(recall79, prec79)))\n",
    "print(\"ROC AUC:\" + str(auc(fpr79, tpr79)))"
   ]
  },
  {
   "cell_type": "code",
   "execution_count": null,
   "id": "313de59b",
   "metadata": {
    "id": "313de59b",
    "outputId": "05825952-987e-4bd9-fb7b-cc923a350176"
   },
   "outputs": [],
   "source": [
    "fpr80, tpr80, thresholds80 = roc_curve(Y_test[:,79], probs[:, 79])\n",
    "prec80, recall80, thresholds80 = precision_recall_curve(Y_test[:,79], probs[:, 79])\n",
    "\n",
    "plt.plot(fpr80,tpr80,label=\"ROC\")\n",
    "plt.plot(recall80,prec80,label=\"PRC\")\n",
    "\n",
    "plt.xlabel('False Positive Rate/Recall')\n",
    "plt.ylabel('True Positive Rate/Precision')\n",
    "\n",
    "plt.legend()\n",
    "plt.title('79')\n",
    "plt.show()\n",
    "\n",
    "print(\"PRC AUC:\" + str(auc(recall80, prec80)))\n",
    "print(\"ROC AUC:\" + str(auc(fpr80, tpr80)))"
   ]
  },
  {
   "cell_type": "markdown",
   "id": "6d158c28",
   "metadata": {
    "id": "6d158c28"
   },
   "source": [
    "### ROC and PRC Curve 80-89"
   ]
  },
  {
   "cell_type": "code",
   "execution_count": null,
   "id": "c203bfe4",
   "metadata": {
    "id": "c203bfe4",
    "outputId": "b916cf69-0a35-4697-b23b-78d4fa332518"
   },
   "outputs": [],
   "source": [
    "fpr81, tpr81, thresholds81 = roc_curve(Y_test[:,80], probs[:,80])\n",
    "prec81, recall81, thresholds81 = precision_recall_curve(Y_test[:,80], probs[:,80])\n",
    "\n",
    "plt.plot(fpr81,tpr81,label=\"ROC\")\n",
    "plt.plot(recall81,prec81,label=\"PRC\")\n",
    "\n",
    "plt.xlabel('False Positive Rate/Recall')\n",
    "plt.ylabel('True Positive Rate/Precision')\n",
    "\n",
    "plt.legend()\n",
    "plt.title('80')\n",
    "plt.show()\n",
    "\n",
    "print(\"PRC AUC:\" + str(auc(recall81, prec81)))\n",
    "print(\"ROC AUC:\" + str(auc(fpr81, tpr81)))"
   ]
  },
  {
   "cell_type": "code",
   "execution_count": null,
   "id": "1eda6a21",
   "metadata": {
    "id": "1eda6a21",
    "outputId": "60aacda6-5f3a-49e3-ba8d-742a599b9d9d"
   },
   "outputs": [],
   "source": [
    "fpr82, tpr82, thresholds82 = roc_curve(Y_test[:,81], probs[:, 81])\n",
    "prec82, recall82, thresholds82 = precision_recall_curve(Y_test[:,81], probs[:, 81])\n",
    "\n",
    "plt.plot(fpr82,tpr82,label=\"ROC\")\n",
    "plt.plot(recall82,prec82,label=\"PRC\")\n",
    "\n",
    "plt.xlabel('False Positive Rate/Recall')\n",
    "plt.ylabel('True Positive Rate/Precision')\n",
    "\n",
    "plt.legend()\n",
    "plt.title('81')\n",
    "plt.show()\n",
    "\n",
    "print(\"PRC AUC:\" + str(auc(recall82, prec82)))\n",
    "print(\"ROC AUC:\" + str(auc(fpr82, tpr82)))"
   ]
  },
  {
   "cell_type": "code",
   "execution_count": null,
   "id": "73141562",
   "metadata": {
    "id": "73141562",
    "outputId": "b15d873c-7435-4390-e981-2f4ce2bfa4ce"
   },
   "outputs": [],
   "source": [
    "fpr83, tpr83, thresholds83 = roc_curve(Y_test[:,82], probs[:, 82])\n",
    "prec83, recall83, thresholds83 = precision_recall_curve(Y_test[:,82], probs[:, 82])\n",
    "\n",
    "plt.plot(fpr83,tpr83,label=\"ROC\")\n",
    "plt.plot(recall83,prec83,label=\"PRC\")\n",
    "\n",
    "plt.xlabel('False Positive Rate/Recall')\n",
    "plt.ylabel('True Positive Rate/Precision')\n",
    "\n",
    "plt.legend()\n",
    "plt.title('82')\n",
    "plt.show()\n",
    "\n",
    "print(\"PRC AUC:\" + str(auc(recall83, prec83)))\n",
    "print(\"ROC AUC:\" + str(auc(fpr83, tpr83)))"
   ]
  },
  {
   "cell_type": "code",
   "execution_count": null,
   "id": "8a37762d",
   "metadata": {
    "id": "8a37762d",
    "outputId": "cd77baad-569a-43f4-ba82-8a6c84950327"
   },
   "outputs": [],
   "source": [
    "fpr84, tpr84, thresholds84 = roc_curve(Y_test[:,83], probs[:, 83])\n",
    "prec84, recall84, thresholds84 = precision_recall_curve(Y_test[:,83], probs[:, 83])\n",
    "\n",
    "plt.plot(fpr84,tpr84,label=\"ROC\")\n",
    "plt.plot(recall84,prec84,label=\"PRC\")\n",
    "\n",
    "plt.xlabel('False Positive Rate/Recall')\n",
    "plt.ylabel('True Positive Rate/Precision')\n",
    "\n",
    "plt.legend()\n",
    "plt.title('83')\n",
    "plt.show()\n",
    "\n",
    "print(\"PRC AUC:\" + str(auc(recall84, prec84)))\n",
    "print(\"ROC AUC:\" + str(auc(fpr84, tpr84)))"
   ]
  },
  {
   "cell_type": "code",
   "execution_count": null,
   "id": "31e1e9b9",
   "metadata": {
    "id": "31e1e9b9",
    "outputId": "81be04f7-b25e-4ccf-a68a-24bd5105e912"
   },
   "outputs": [],
   "source": [
    "fpr85, tpr85, thresholds85 = roc_curve(Y_test[:,84], probs[:, 84])\n",
    "prec85, recall85, thresholds85 = precision_recall_curve(Y_test[:,84], probs[:, 84])\n",
    "\n",
    "plt.plot(fpr85,tpr85,label=\"ROC\")\n",
    "plt.plot(recall85,prec85,label=\"PRC\")\n",
    "\n",
    "plt.xlabel('False Positive Rate/Recall')\n",
    "plt.ylabel('True Positive Rate/Precision')\n",
    "\n",
    "plt.legend()\n",
    "plt.title('84')\n",
    "plt.show()\n",
    "\n",
    "print(\"PRC AUC:\" + str(auc(recall85, prec85)))\n",
    "print(\"ROC AUC:\" + str(auc(fpr85, tpr85)))"
   ]
  },
  {
   "cell_type": "code",
   "execution_count": null,
   "id": "c2944f0a",
   "metadata": {
    "id": "c2944f0a",
    "outputId": "e4efbb4b-fbfd-4024-91ad-840397bfbe64"
   },
   "outputs": [],
   "source": [
    "fpr86, tpr86, thresholds86 = roc_curve(Y_test[:,85], probs[:, 85])\n",
    "prec86, recall86, thresholds86 = precision_recall_curve(Y_test[:,85], probs[:, 85])\n",
    "\n",
    "plt.plot(fpr86,tpr86,label=\"ROC\")\n",
    "plt.plot(recall86,prec86,label=\"PRC\")\n",
    "\n",
    "plt.xlabel('False Positive Rate/Recall')\n",
    "plt.ylabel('True Positive Rate/Precision')\n",
    "\n",
    "plt.legend()\n",
    "plt.title('85')\n",
    "plt.show()\n",
    "\n",
    "print(\"PRC AUC:\" + str(auc(recall86, prec86)))\n",
    "print(\"ROC AUC:\" + str(auc(fpr86, tpr86)))"
   ]
  },
  {
   "cell_type": "code",
   "execution_count": null,
   "id": "1f2ef90a",
   "metadata": {
    "id": "1f2ef90a",
    "outputId": "9f8608bd-eb74-46b2-eb5b-30cd00a40d04"
   },
   "outputs": [],
   "source": [
    "fpr87, tpr87, thresholds87 = roc_curve(Y_test[:,86], probs[:, 86])\n",
    "prec87, recall87, thresholds87 = precision_recall_curve(Y_test[:,86], probs[:, 86])\n",
    "\n",
    "plt.plot(fpr87,tpr87,label=\"ROC\")\n",
    "plt.plot(recall87,prec87,label=\"PRC\")\n",
    "\n",
    "plt.xlabel('False Positive Rate/Recall')\n",
    "plt.ylabel('True Positive Rate/Precision')\n",
    "\n",
    "plt.legend()\n",
    "plt.title('86')\n",
    "plt.show()\n",
    "\n",
    "print(\"PRC AUC:\" + str(auc(recall87, prec87)))\n",
    "print(\"ROC AUC:\" + str(auc(fpr87, tpr87)))"
   ]
  },
  {
   "cell_type": "code",
   "execution_count": null,
   "id": "4d5127e7",
   "metadata": {
    "id": "4d5127e7",
    "outputId": "1940e107-ee0c-4407-e9fd-7d17f4ce09a8"
   },
   "outputs": [],
   "source": [
    "fpr88, tpr88, thresholds88 = roc_curve(Y_test[:,87], probs[:, 87])\n",
    "prec88, recall88, thresholds88 = precision_recall_curve(Y_test[:,87], probs[:, 87])\n",
    "\n",
    "plt.plot(fpr88,tpr88,label=\"ROC\")\n",
    "plt.plot(recall88,prec88,label=\"PRC\")\n",
    "\n",
    "plt.xlabel('False Positive Rate/Recall')\n",
    "plt.ylabel('True Positive Rate/Precision')\n",
    "\n",
    "plt.legend()\n",
    "plt.title('87')\n",
    "plt.show()\n",
    "\n",
    "print(\"PRC AUC:\" + str(auc(recall88, prec88)))\n",
    "print(\"ROC AUC:\" + str(auc(fpr88, tpr88)))"
   ]
  },
  {
   "cell_type": "code",
   "execution_count": null,
   "id": "f462569e",
   "metadata": {
    "id": "f462569e",
    "outputId": "9e9be101-72cd-45b2-9f1c-8eeff86d2bae"
   },
   "outputs": [],
   "source": [
    "fpr89, tpr89, thresholds89 = roc_curve(Y_test[:,88], probs[:, 88])\n",
    "prec89, recall89, thresholds89 = precision_recall_curve(Y_test[:,88], probs[:, 88])\n",
    "\n",
    "plt.plot(fpr89,tpr89,label=\"ROC\")\n",
    "plt.plot(recall89,prec89,label=\"PRC\")\n",
    "\n",
    "plt.xlabel('False Positive Rate/Recall')\n",
    "plt.ylabel('True Positive Rate/Precision')\n",
    "\n",
    "plt.legend()\n",
    "plt.title('88')\n",
    "plt.show()\n",
    "\n",
    "print(\"PRC AUC:\" + str(auc(recall89, prec89)))\n",
    "print(\"ROC AUC:\" + str(auc(fpr89, tpr89)))"
   ]
  },
  {
   "cell_type": "code",
   "execution_count": null,
   "id": "681e49ce",
   "metadata": {
    "id": "681e49ce",
    "outputId": "bd334e10-2e4c-4e3d-c8cc-64a9b70e6bc8"
   },
   "outputs": [],
   "source": [
    "fpr90, tpr90, thresholds90 = roc_curve(Y_test[:,89], probs[:, 89])\n",
    "prec90, recall90, thresholds90 = precision_recall_curve(Y_test[:,89], probs[:, 89])\n",
    "\n",
    "plt.plot(fpr90,tpr90,label=\"ROC\")\n",
    "plt.plot(recall90,prec90,label=\"PRC\")\n",
    "\n",
    "plt.xlabel('False Positive Rate/Recall')\n",
    "plt.ylabel('True Positive Rate/Precision')\n",
    "\n",
    "plt.legend()\n",
    "plt.title('89')\n",
    "plt.show()\n",
    "\n",
    "print(\"PRC AUC:\" + str(auc(recall90, prec90)))\n",
    "print(\"ROC AUC:\" + str(auc(fpr90, tpr90)))"
   ]
  },
  {
   "cell_type": "markdown",
   "id": "8bcc6484",
   "metadata": {
    "id": "8bcc6484"
   },
   "source": [
    "### ROC and PRC Curve 90-99"
   ]
  },
  {
   "cell_type": "code",
   "execution_count": null,
   "id": "4f900fe2",
   "metadata": {
    "id": "4f900fe2",
    "outputId": "e8152e16-3a57-4ba7-887f-9600fd3fb5a6"
   },
   "outputs": [],
   "source": [
    "fpr91, tpr91, thresholds91 = roc_curve(Y_test[:,90], probs[:,90])\n",
    "prec91, recall91, thresholds91 = precision_recall_curve(Y_test[:,90], probs[:,90])\n",
    "\n",
    "plt.plot(fpr91,tpr91,label=\"ROC\")\n",
    "plt.plot(recall91,prec91,label=\"PRC\")\n",
    "\n",
    "plt.xlabel('False Positive Rate/Recall')\n",
    "plt.ylabel('True Positive Rate/Precision')\n",
    "\n",
    "plt.legend()\n",
    "plt.title('90')\n",
    "plt.show()\n",
    "\n",
    "print(\"PRC AUC:\" + str(auc(recall91, prec91)))\n",
    "print(\"ROC AUC:\" + str(auc(fpr91, tpr91)))"
   ]
  },
  {
   "cell_type": "code",
   "execution_count": null,
   "id": "9af5b2fb",
   "metadata": {
    "id": "9af5b2fb",
    "outputId": "ab22bcc1-12b8-41fe-ceae-7d7f69793641"
   },
   "outputs": [],
   "source": [
    "fpr92, tpr92, thresholds92 = roc_curve(Y_test[:,91], probs[:, 91])\n",
    "prec92, recall92, thresholds92 = precision_recall_curve(Y_test[:,91], probs[:, 91])\n",
    "\n",
    "plt.plot(fpr92,tpr92,label=\"ROC\")\n",
    "plt.plot(recall92,prec92,label=\"PRC\")\n",
    "\n",
    "plt.xlabel('False Positive Rate/Recall')\n",
    "plt.ylabel('True Positive Rate/Precision')\n",
    "\n",
    "plt.legend()\n",
    "plt.title('91')\n",
    "plt.show()\n",
    "\n",
    "print(\"PRC AUC:\" + str(auc(recall92, prec92)))\n",
    "print(\"ROC AUC:\" + str(auc(fpr92, tpr92)))"
   ]
  },
  {
   "cell_type": "code",
   "execution_count": null,
   "id": "b963b284",
   "metadata": {
    "id": "b963b284",
    "outputId": "452d6114-e190-4f1d-98d0-4acddea369af"
   },
   "outputs": [],
   "source": [
    "fpr93, tpr93, thresholds93 = roc_curve(Y_test[:,92], probs[:, 92])\n",
    "prec93, recall93, thresholds93 = precision_recall_curve(Y_test[:,92], probs[:, 92])\n",
    "\n",
    "plt.plot(fpr93,tpr93,label=\"ROC\")\n",
    "plt.plot(recall93,prec93,label=\"PRC\")\n",
    "\n",
    "plt.xlabel('False Positive Rate/Recall')\n",
    "plt.ylabel('True Positive Rate/Precision')\n",
    "\n",
    "plt.legend()\n",
    "plt.title('92')\n",
    "plt.show()\n",
    "\n",
    "print(\"PRC AUC:\" + str(auc(recall93, prec93)))\n",
    "print(\"ROC AUC:\" + str(auc(fpr93, tpr93)))"
   ]
  },
  {
   "cell_type": "code",
   "execution_count": null,
   "id": "d152cd7d",
   "metadata": {
    "id": "d152cd7d",
    "outputId": "66ba6649-e424-4d0a-d09c-455f37b22892"
   },
   "outputs": [],
   "source": [
    "fpr94, tpr94, thresholds94 = roc_curve(Y_test[:,93], probs[:, 93])\n",
    "prec94, recall94, thresholds94 = precision_recall_curve(Y_test[:,93], probs[:, 93])\n",
    "\n",
    "plt.plot(fpr94,tpr94,label=\"ROC\")\n",
    "plt.plot(recall94,prec94,label=\"PRC\")\n",
    "\n",
    "plt.xlabel('False Positive Rate/Recall')\n",
    "plt.ylabel('True Positive Rate/Precision')\n",
    "\n",
    "plt.legend()\n",
    "plt.title('93')\n",
    "plt.show()\n",
    "\n",
    "print(\"PRC AUC:\" + str(auc(recall94, prec94)))\n",
    "print(\"ROC AUC:\" + str(auc(fpr94, tpr94)))"
   ]
  },
  {
   "cell_type": "code",
   "execution_count": null,
   "id": "e3b9a07b",
   "metadata": {
    "id": "e3b9a07b",
    "outputId": "d03d4d16-257a-440d-951f-bda1758a9eac"
   },
   "outputs": [],
   "source": [
    "fpr95, tpr95, thresholds95 = roc_curve(Y_test[:,94], probs[:, 94])\n",
    "prec95, recall95, thresholds95 = precision_recall_curve(Y_test[:,94], probs[:, 94])\n",
    "\n",
    "plt.plot(fpr95,tpr95,label=\"ROC\")\n",
    "plt.plot(recall95,prec95,label=\"PRC\")\n",
    "\n",
    "plt.xlabel('False Positive Rate/Recall')\n",
    "plt.ylabel('True Positive Rate/Precision')\n",
    "\n",
    "plt.legend()\n",
    "plt.title('94')\n",
    "plt.show()\n",
    "\n",
    "print(\"PRC AUC:\" + str(auc(recall95, prec95)))\n",
    "print(\"ROC AUC:\" + str(auc(fpr95, tpr95)))"
   ]
  },
  {
   "cell_type": "code",
   "execution_count": null,
   "id": "6c59165d",
   "metadata": {
    "id": "6c59165d",
    "outputId": "ea74f8f0-7922-4d22-bb96-d75c660490d3"
   },
   "outputs": [],
   "source": [
    "fpr96, tpr96, thresholds96 = roc_curve(Y_test[:,95], probs[:, 95])\n",
    "prec96, recall96, thresholds96 = precision_recall_curve(Y_test[:,95], probs[:, 95])\n",
    "\n",
    "plt.plot(fpr96,tpr96,label=\"ROC\")\n",
    "plt.plot(recall96,prec96,label=\"PRC\")\n",
    "\n",
    "plt.xlabel('False Positive Rate/Recall')\n",
    "plt.ylabel('True Positive Rate/Precision')\n",
    "\n",
    "plt.legend()\n",
    "plt.title('95')\n",
    "plt.show()\n",
    "\n",
    "print(\"PRC AUC:\" + str(auc(recall96, prec96)))\n",
    "print(\"ROC AUC:\" + str(auc(fpr96, tpr96)))"
   ]
  },
  {
   "cell_type": "code",
   "execution_count": null,
   "id": "021b07cd",
   "metadata": {
    "id": "021b07cd",
    "outputId": "2d6b7e13-5b84-438e-ab16-d61befec871a"
   },
   "outputs": [],
   "source": [
    "fpr97, tpr97, thresholds97 = roc_curve(Y_test[:,96], probs[:, 96])\n",
    "prec97, recall97, thresholds97 = precision_recall_curve(Y_test[:,96], probs[:, 96])\n",
    "\n",
    "plt.plot(fpr97,tpr97,label=\"ROC\")\n",
    "plt.plot(recall97,prec97,label=\"PRC\")\n",
    "\n",
    "plt.xlabel('False Positive Rate/Recall')\n",
    "plt.ylabel('True Positive Rate/Precision')\n",
    "\n",
    "plt.legend()\n",
    "plt.title('96')\n",
    "plt.show()\n",
    "\n",
    "print(\"PRC AUC:\" + str(auc(recall97, prec97)))\n",
    "print(\"ROC AUC:\" + str(auc(fpr97, tpr97)))"
   ]
  },
  {
   "cell_type": "code",
   "execution_count": null,
   "id": "1dcfdd95",
   "metadata": {
    "id": "1dcfdd95",
    "outputId": "aaacb315-9b75-407b-ace2-c31df7b79f07"
   },
   "outputs": [],
   "source": [
    "fpr98, tpr98, thresholds28 = roc_curve(Y_test[:,97], probs[:, 97])\n",
    "prec98, recall98, thresholds28 = precision_recall_curve(Y_test[:,97], probs[:, 97])\n",
    "\n",
    "plt.plot(fpr98,tpr98,label=\"ROC\")\n",
    "plt.plot(recall98,prec98,label=\"PRC\")\n",
    "\n",
    "plt.xlabel('False Positive Rate/Recall')\n",
    "plt.ylabel('True Positive Rate/Precision')\n",
    "\n",
    "plt.legend()\n",
    "plt.title('97')\n",
    "plt.show()\n",
    "\n",
    "print(\"PRC AUC:\" + str(auc(recall98, prec98)))\n",
    "print(\"ROC AUC:\" + str(auc(fpr98, tpr98)))"
   ]
  },
  {
   "cell_type": "code",
   "execution_count": null,
   "id": "96c52462",
   "metadata": {
    "id": "96c52462",
    "outputId": "aa11d228-36f6-4fb6-9e6d-8a0b0c51860d"
   },
   "outputs": [],
   "source": [
    "fpr99, tpr99, thresholds99 = roc_curve(Y_test[:,98], probs[:, 98])\n",
    "prec99, recall99, thresholds99 = precision_recall_curve(Y_test[:,98], probs[:, 98])\n",
    "\n",
    "plt.plot(fpr99,tpr99,label=\"ROC\")\n",
    "plt.plot(recall99,prec99,label=\"PRC\")\n",
    "\n",
    "plt.xlabel('False Positive Rate/Recall')\n",
    "plt.ylabel('True Positive Rate/Precision')\n",
    "\n",
    "plt.legend()\n",
    "plt.title('98')\n",
    "plt.show()\n",
    "\n",
    "print(\"PRC AUC:\" + str(auc(recall99, prec99)))\n",
    "print(\"ROC AUC:\" + str(auc(fpr99, tpr99)))"
   ]
  },
  {
   "cell_type": "code",
   "execution_count": null,
   "id": "148f3191",
   "metadata": {
    "id": "148f3191",
    "outputId": "8cff7cbf-9fd0-41e3-a945-aea19311eb9f"
   },
   "outputs": [],
   "source": [
    "fpr100, tpr100, thresholds100 = roc_curve(Y_test[:,99], probs[:, 99])\n",
    "prec100, recall100, thresholds100 = precision_recall_curve(Y_test[:,99], probs[:, 99])\n",
    "\n",
    "plt.plot(fpr100,tpr100,label=\"ROC\")\n",
    "plt.plot(recall100,prec100,label=\"PRC\")\n",
    "\n",
    "plt.xlabel('False Positive Rate/Recall')\n",
    "plt.ylabel('True Positive Rate/Precision')\n",
    "\n",
    "plt.legend()\n",
    "plt.title('99')\n",
    "plt.show()\n",
    "\n",
    "print(\"PRC AUC:\" + str(auc(recall100, prec100)))\n",
    "print(\"ROC AUC:\" + str(auc(fpr100, tpr100)))"
   ]
  }
 ],
 "metadata": {
  "accelerator": "GPU",
  "colab": {
   "name": "Convolutional Tensor Flow 2 cifar100 Resnet 19 XCS Convolutional Layer 100.ipynb",
   "provenance": []
  },
  "kernelspec": {
   "display_name": "Python 3 (ipykernel)",
   "language": "python",
   "name": "python3"
  },
  "language_info": {
   "codemirror_mode": {
    "name": "ipython",
    "version": 3
   },
   "file_extension": ".py",
   "mimetype": "text/x-python",
   "name": "python",
   "nbconvert_exporter": "python",
   "pygments_lexer": "ipython3",
   "version": "3.9.6"
  }
 },
 "nbformat": 4,
 "nbformat_minor": 5
}
